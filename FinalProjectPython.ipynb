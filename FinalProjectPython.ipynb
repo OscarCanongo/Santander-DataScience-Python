{
  "nbformat": 4,
  "nbformat_minor": 0,
  "metadata": {
    "colab": {
      "name": "FinalProjectPython.ipynb",
      "provenance": [],
      "collapsed_sections": [],
      "include_colab_link": true
    },
    "kernelspec": {
      "name": "python3",
      "display_name": "Python 3"
    }
  },
  "cells": [
    {
      "cell_type": "markdown",
      "metadata": {
        "id": "view-in-github",
        "colab_type": "text"
      },
      "source": [
        "<a href=\"https://colab.research.google.com/github/OscarCanongo/Santander-DataScience-Python/blob/main/FinalProjectPython.ipynb\" target=\"_parent\"><img src=\"https://colab.research.google.com/assets/colab-badge.svg\" alt=\"Open In Colab\"/></a>"
      ]
    },
    {
      "cell_type": "markdown",
      "metadata": {
        "id": "wcgkhMg9RxXm"
      },
      "source": [
        "# **Procesamiento de Datos con Python - Proyecto Final**\r\n",
        "\r\n",
        "**Equipo 24:**\r\n",
        "- **Oscar Cañongo** - \\*\\* - [OscarCanongo](https://github.com/OscarCanongo)\r\n",
        "- **Andres** - \\*\\* - [andresam0301](https://github.com/andresam0301)\r\n",
        "- **Daniel Arellano** - \\*\\* - [Tachuelin](https://github.com/Tachuelin)\r\n",
        "- **Miguel Toledo** - \\*\\* -[josemigueltr](https://github.com/josemigueltr)"
      ]
    },
    {
      "cell_type": "markdown",
      "metadata": {
        "id": "gIJOpUkxwR4d"
      },
      "source": [
        "# **Indentificación del problema**"
      ]
    },
    {
      "cell_type": "markdown",
      "metadata": {
        "id": "ld7T3LPGTB8W"
      },
      "source": [
        "El tema elegido para analizar en este proyecto corresponde al *análisis de gravedad y letalidad del virus SARS-CoV-2(Covid-19)*,esto  debido a que en el anterior proyecto correspondiente al modulo [**Análisis de datos con R**](https://github.com/OscarCanongo/Santander-DataScience)\n",
        ", se trabajo de igual manera con este tema y aun mas importante por la situación mundial que se esta viviendo, nos parece de gran importancia el poder realizar este análisis para poder  tener una visión mucho mas detallada sobre esta situación y así mismo el poder responder a muchas interrogantes que han surgido desde el momento que inicio la pandemia. Las cuales algunas veces no son tan sencillas de responder debido a la gran  cantidad de información con la que se cuenta, o inclusive por que los datos mostrados no son lo suficientemente claros como para ser entendibles por todas las personas.\n",
        "\n",
        "\n",
        "Es por todo lo anterior que en este análisis planemos hacer un procesamiento de datos de diferentes datasets los cuales recolectamos de la siguientes maneras: **Bancos de información(Datasets), Consulta de Apis, etc.**.Todo esto con el fin de poder hacer un pequeño análisis de dicha información recolectada la cual nos permita responder las siguientes preguntas que nos fuimos planteando al momento de estar investigando sobre el tema en cuestión.\n",
        "\n",
        "\n",
        "\n",
        "\n",
        "\n",
        "\n",
        "\n",
        "\n",
        "\n"
      ]
    },
    {
      "cell_type": "markdown",
      "metadata": {
        "id": "9krUN3szZYm7"
      },
      "source": [
        "#**Planteamiento de preguntas**\n",
        "\n",
        "\n"
      ]
    },
    {
      "cell_type": "markdown",
      "metadata": {
        "id": "73f-K9Pft4Jh"
      },
      "source": [
        "Este planteamiento se baso en explicar de una forma mas detallada el impacto que esta pandemia **SARS-CoV-2(Covid-19)**, ha tenido en todo nuestro país, desde afectaciones a la economía, a la deserción escolar y por su puesto, el aumento en casos de enfermedades respiratorias, crónicas y muchísimas otras más, las cuales representaron un alto riesgo para la población mexicana en todo este periodo que ha transcurrido la pandemia. \n",
        "\n",
        "*   **¿Cuál es la situación actual del coronavirus?**\n",
        "\n",
        "*   **¿Qué tipo de padecimientos o personas con padecimientos de distintas edades y sexo han sido mas afectados a causa de la pandemia SARS-CoV-2(Covid-19)?**\n",
        "\n",
        "*   **¿Qué repercusiones económicas ha tenido la pandemia SARS-CoV-2(Covid-19) en México?**\n",
        "*   **¿Cuáles han sido las repercusiones en el ámbito laboral y escolar a causa de la pandemia SARS-CoV-2(Covid-19)?**\n",
        "\n",
        "\n",
        "\n",
        "\n"
      ]
    },
    {
      "cell_type": "markdown",
      "metadata": {
        "id": "DtR7MOijwjo0"
      },
      "source": [
        "## **Comenzando** 🚀\n",
        "\n",
        "_Puedes descargar el repositorio de [**GitHub**](https://github.com/OscarCanongo/Santander-DataScience-Python) y consultar el Código en lenguaje de programación Python sobre el análisis realizado de las siguientes maneras:_\n",
        "\n",
        "- Dando clic en **Code** en el repositorio y después **Download ZIP**..\n",
        "- Haciendo un **Git clone** del repositorio directamente en tu computadora\n",
        "\n",
        "### **Prerrequisitos** 📋\n",
        "\n",
        "_Para poder observar en análisis, gráficas y datos que se presentan en este proyecto, debes tener instalado el lenguaje de programación **Python** en tu ordenador, así como cualquier IDE que pueda soportar este lenguaje, te recomendamos \"VScode\", \"Anaconda\", \"JupiterNotebooks\", pero una opción mas sencilla es utilizar y ejecutar este script en Google Colab si así lo deseas._\n",
        "\n",
        "# **Colecciones de Datos**\n",
        "\n",
        "*   [Open Disease Data - API](https://corona.lmao.ninja/) - API utilizada para obtener los contagios, las muertes y los recuperados actuales por país de COVID-19\n",
        "\n",
        "*   [Proyectos México - Web Scrapping](https://www.proyectosmexico.gob.mx/) - Página web utilizada para realizar Web Scrapping y así obtener datos de las variaciones del PIB y tasa de desempleo desde el 2008\n",
        "\n",
        "*   [Encuesta Nacional sobre Disponibilidad y Uso de Tecnologías de la información en los Hogares(2019)](https://www.datos.gob.mx/busca/dataset/encuesta-nacional-sobre-disponibilidad-y-uso-de-tecnologias-de-la-informacion-en-los-hogares-en/resource/53904381-5793-4fec-bd63-3c6ef6ff62f6\n",
        ") - Dataset utilizado para conocer la disponibilidad y el uso de las tecnologias TIC en los hogares de mexico  \n",
        "\n",
        "* [Datos para el monitoreo del COVID-19 en México](https://github.com/mexicovid19/Mexico-datos) - Es un repositorio que se utiliza para analizar y extraer datos generales del pais sobre la pandemia SARS-CoV-2(Covid-19)\n",
        "\n",
        "\n",
        "\n",
        "\n",
        "\n",
        "\n",
        "\n",
        "\n",
        "\n",
        "\n",
        "\n",
        "\n",
        "\n"
      ]
    },
    {
      "cell_type": "markdown",
      "metadata": {
        "id": "A90SupuXX5mQ"
      },
      "source": [
        "# **Librerias utilizadas**\r\n",
        "\r\n",
        "### **Instalación** 🔧\r\n",
        "\r\n",
        "_Para el desarrollo del Código se utilizaron ciertas librerías de Python que facilitaron el análisis y la extracción de datos_\r\n",
        "\r\n",
        "_Las librerías son las siguientes:_\r\n",
        "\r\n"
      ]
    },
    {
      "cell_type": "code",
      "metadata": {
        "id": "eWjqiIULwTb7"
      },
      "source": [
        "import pandas as pd\n",
        "import requests\n",
        "import matplotlib.pyplot as plt\n",
        "import os\n",
        "import numpy as np\n",
        "import seaborn as sns\n",
        "from datetime import datetime"
      ],
      "execution_count": null,
      "outputs": []
    },
    {
      "cell_type": "markdown",
      "metadata": {
        "id": "dyKiFWwUwgBU"
      },
      "source": [
        "# **El Coronavirus actualmente**\n"
      ]
    },
    {
      "cell_type": "markdown",
      "metadata": {
        "id": "fb0HAUoURw0E"
      },
      "source": [
        "# Análisis Exploratorio de datos"
      ]
    },
    {
      "cell_type": "code",
      "metadata": {
        "id": "jVDm6HDvwlyK"
      },
      "source": [
        "#Url para obtener casos actuales de COVID\n",
        "url = 'https://corona.lmao.ninja/v2/historical?lastdays=1'"
      ],
      "execution_count": null,
      "outputs": []
    },
    {
      "cell_type": "code",
      "metadata": {
        "id": "uDBfzOnWwyTH"
      },
      "source": [
        "#Obtenemos la respuesta y la convertimos a json\n",
        "r = requests.get(url)\n",
        "json = r.json()"
      ],
      "execution_count": null,
      "outputs": []
    },
    {
      "cell_type": "code",
      "metadata": {
        "colab": {
          "base_uri": "https://localhost:8080/"
        },
        "id": "azL4F_8HSdS_",
        "outputId": "bdd1eb75-7bec-46f4-b976-20dc4af90795"
      },
      "source": [
        "#Revisamos la respuesta para ver los datos que tendremos\r\n",
        "json[0]"
      ],
      "execution_count": null,
      "outputs": [
        {
          "output_type": "execute_result",
          "data": {
            "text/plain": [
              "{'country': 'Afghanistan',\n",
              " 'province': None,\n",
              " 'timeline': {'cases': {'3/7/21': 55847},\n",
              "  'deaths': {'3/7/21': 2449},\n",
              "  'recovered': {'3/7/21': 49378}}}"
            ]
          },
          "metadata": {
            "tags": []
          },
          "execution_count": 8
        }
      ]
    },
    {
      "cell_type": "markdown",
      "metadata": {
        "id": "r_uMKsIgSyPQ"
      },
      "source": [
        "# Limpieza de datos"
      ]
    },
    {
      "cell_type": "code",
      "metadata": {
        "id": "MLuaZUcH1xnO"
      },
      "source": [
        "#Declaramos un dataframe para guardar los datos con el nombre de las columnas que vamos a necesitar\n",
        "df = pd.DataFrame(columns=['country', 'cases', 'deaths', 'recovered'])"
      ],
      "execution_count": null,
      "outputs": []
    },
    {
      "cell_type": "code",
      "metadata": {
        "id": "4bE58_-oxhGu"
      },
      "source": [
        "#Agregamos los datos de la consulta y limpiamos el Json para formar un dataset  \n",
        "for x in json:\n",
        "  df=df.append({'country' : x.get(\"country\") , 'cases' : list(x.get(\"timeline\").get(\"cases\").values())[0], 'deaths' : list(x.get(\"timeline\").get(\"deaths\").values())[0], 'recovered':list(x.get(\"timeline\").get(\"recovered\").values())[0]}, ignore_index=True)"
      ],
      "execution_count": null,
      "outputs": []
    },
    {
      "cell_type": "markdown",
      "metadata": {
        "id": "lJFh7K5hTBeP"
      },
      "source": [
        "# Transformación de datos\r\n",
        "\r\n",
        "\r\n"
      ]
    },
    {
      "cell_type": "code",
      "metadata": {
        "id": "noNcSOPh5MHv"
      },
      "source": [
        "#Como nuestro dataset se repiten los países, ya que está dividido por regiones, se deben de agrupar los casos por país\n",
        "df = df.groupby(['country']).sum()"
      ],
      "execution_count": null,
      "outputs": []
    },
    {
      "cell_type": "code",
      "metadata": {
        "id": "mKBfhU3-r0eA"
      },
      "source": [
        "#Vemos qué países tienen más casos confirmados y tomamos los 20 con más casos para graficar\n",
        "casos = df.sort_values(by=['cases'], ascending=False).head(15)"
      ],
      "execution_count": null,
      "outputs": []
    },
    {
      "cell_type": "code",
      "metadata": {
        "id": "cBJ8N_DmTgS1"
      },
      "source": [
        "#Ahora veamos el top quince de países con más muertes  \r\n",
        "muertes = df.sort_values(by=['deaths'], ascending=False).head(15)"
      ],
      "execution_count": null,
      "outputs": []
    },
    {
      "cell_type": "markdown",
      "metadata": {
        "id": "23q7RlVgTi_e"
      },
      "source": [
        "# Resultados"
      ]
    },
    {
      "cell_type": "code",
      "metadata": {
        "colab": {
          "base_uri": "https://localhost:8080/",
          "height": 346
        },
        "id": "Y16GyPxssp-J",
        "outputId": "f82d2ba3-9dab-479f-cdc9-53ec851f29d3"
      },
      "source": [
        "#Creamos la gráfica de barras para ver el top quince de países con más infectados\n",
        "casos['cases'].plot.bar()"
      ],
      "execution_count": null,
      "outputs": [
        {
          "output_type": "execute_result",
          "data": {
            "text/plain": [
              "<matplotlib.axes._subplots.AxesSubplot at 0x7fe8fb5c8890>"
            ]
          },
          "metadata": {
            "tags": []
          },
          "execution_count": 49
        },
        {
          "output_type": "display_data",
          "data": {
            "image/png": "[encoded data removed]",
            "text/plain": [
              "<Figure size 432x288 with 1 Axes>"
            ]
          },
          "metadata": {
            "tags": [],
            "needs_background": "light"
          }
        }
      ]
    },
    {
      "cell_type": "code",
      "metadata": {
        "colab": {
          "base_uri": "https://localhost:8080/",
          "height": 347
        },
        "id": "mKcSs5ZfvMmI",
        "outputId": "e48a27c0-3471-4ee1-86a2-cf35dcb8158f"
      },
      "source": [
        "\n",
        "muertes['deaths'].plot.bar()\n",
        "\n",
        "#México ocupa el tercer lugar!!"
      ],
      "execution_count": null,
      "outputs": [
        {
          "output_type": "execute_result",
          "data": {
            "text/plain": [
              "<matplotlib.axes._subplots.AxesSubplot at 0x7fe8faead390>"
            ]
          },
          "metadata": {
            "tags": []
          },
          "execution_count": 50
        },
        {
          "output_type": "display_data",
          "data": {
            "image/png": "[encoded data removed]",
            "text/plain": [
              "<Figure size 432x288 with 1 Axes>"
            ]
          },
          "metadata": {
            "tags": [],
            "needs_background": "light"
          }
        }
      ]
    },
    {
      "cell_type": "markdown",
      "metadata": {
        "id": "5ZZWRCkn5zcz"
      },
      "source": [
        "# **Analisis de afectaciones por covid-19 en México, considerando la edad y sexo, en todo el 2020**"
      ]
    },
    {
      "cell_type": "markdown",
      "metadata": {
        "id": "79JRXI-y6PLh"
      },
      "source": [
        "## Analisis exploratorio de datos\r\n",
        "\r\n",
        "* Importando datasets en formato .csv"
      ]
    },
    {
      "cell_type": "code",
      "metadata": {
        "id": "BUWs4pyB1Y-E"
      },
      "source": [
        "# Importando las librerias necesarias\r\n",
        "%matplotlib inline\r\n",
        "\r\n",
        "pd.set_option('display.max_columns', 50)\r\n",
        "pd.options.display.float_format = '{:,.2f}'.format"
      ],
      "execution_count": null,
      "outputs": []
    },
    {
      "cell_type": "code",
      "metadata": {
        "colab": {
          "base_uri": "https://localhost:8080/",
          "height": 923
        },
        "id": "s0gvCxIm6rDQ",
        "outputId": "004dc729-8af2-4caa-e584-565664a9a73d"
      },
      "source": [
        "general = pd.read_csv('https://raw.githubusercontent.com/OscarCanongo/Santander-DataScience-Python/main/datasets/covid-19_general_MX.csv')\r\n",
        "general.rename( columns={'Unnamed: 0' :'#'}, inplace=True )\r\n",
        "\r\n",
        "print(general.shape)\r\n",
        "display(general.head())\r\n",
        "print(general.info())"
      ],
      "execution_count": null,
      "outputs": [
        {
          "output_type": "stream",
          "text": [
            "(684804, 26)\n"
          ],
          "name": "stdout"
        },
        {
          "output_type": "display_data",
          "data": {
            "text/html": [
              "<div>\n",
              "<style scoped>\n",
              "    .dataframe tbody tr th:only-of-type {\n",
              "        vertical-align: middle;\n",
              "    }\n",
              "\n",
              "    .dataframe tbody tr th {\n",
              "        vertical-align: top;\n",
              "    }\n",
              "\n",
              "    .dataframe thead th {\n",
              "        text-align: right;\n",
              "    }\n",
              "</style>\n",
              "<table border=\"1\" class=\"dataframe\">\n",
              "  <thead>\n",
              "    <tr style=\"text-align: right;\">\n",
              "      <th></th>\n",
              "      <th>#</th>\n",
              "      <th>SECTOR</th>\n",
              "      <th>ENTIDAD_UM</th>\n",
              "      <th>SEXO</th>\n",
              "      <th>ENTIDAD_RES</th>\n",
              "      <th>TIPO_PACIENTE</th>\n",
              "      <th>FECHA_INGRESO</th>\n",
              "      <th>FECHA_SINTOMAS</th>\n",
              "      <th>FECHA_DEF</th>\n",
              "      <th>INTUBADO</th>\n",
              "      <th>NEUMONIA</th>\n",
              "      <th>EDAD</th>\n",
              "      <th>NACIONALIDAD</th>\n",
              "      <th>DIABETES</th>\n",
              "      <th>EPOC</th>\n",
              "      <th>ASMA</th>\n",
              "      <th>INMUSUPR</th>\n",
              "      <th>HIPERTENSION</th>\n",
              "      <th>OTRA_CON</th>\n",
              "      <th>CARDIOVASCULAR</th>\n",
              "      <th>OBESIDAD</th>\n",
              "      <th>RENAL_CRONICA</th>\n",
              "      <th>TABAQUISMO</th>\n",
              "      <th>OTRO_CASO</th>\n",
              "      <th>RESULTADO</th>\n",
              "      <th>UCI</th>\n",
              "    </tr>\n",
              "  </thead>\n",
              "  <tbody>\n",
              "    <tr>\n",
              "      <th>0</th>\n",
              "      <td>0</td>\n",
              "      <td>4</td>\n",
              "      <td>2</td>\n",
              "      <td>1</td>\n",
              "      <td>2</td>\n",
              "      <td>1</td>\n",
              "      <td>2020-04-07</td>\n",
              "      <td>2020-04-04</td>\n",
              "      <td>9999-99-99</td>\n",
              "      <td>97</td>\n",
              "      <td>2</td>\n",
              "      <td>28</td>\n",
              "      <td>1</td>\n",
              "      <td>2</td>\n",
              "      <td>2</td>\n",
              "      <td>2</td>\n",
              "      <td>2</td>\n",
              "      <td>2</td>\n",
              "      <td>1</td>\n",
              "      <td>2</td>\n",
              "      <td>2</td>\n",
              "      <td>2</td>\n",
              "      <td>2</td>\n",
              "      <td>99</td>\n",
              "      <td>1</td>\n",
              "      <td>97</td>\n",
              "    </tr>\n",
              "    <tr>\n",
              "      <th>1</th>\n",
              "      <td>1</td>\n",
              "      <td>4</td>\n",
              "      <td>9</td>\n",
              "      <td>2</td>\n",
              "      <td>9</td>\n",
              "      <td>2</td>\n",
              "      <td>2020-04-15</td>\n",
              "      <td>2020-04-07</td>\n",
              "      <td>2020-04-16</td>\n",
              "      <td>2</td>\n",
              "      <td>2</td>\n",
              "      <td>76</td>\n",
              "      <td>1</td>\n",
              "      <td>1</td>\n",
              "      <td>2</td>\n",
              "      <td>2</td>\n",
              "      <td>1</td>\n",
              "      <td>1</td>\n",
              "      <td>2</td>\n",
              "      <td>2</td>\n",
              "      <td>1</td>\n",
              "      <td>1</td>\n",
              "      <td>2</td>\n",
              "      <td>99</td>\n",
              "      <td>1</td>\n",
              "      <td>2</td>\n",
              "    </tr>\n",
              "    <tr>\n",
              "      <th>2</th>\n",
              "      <td>2</td>\n",
              "      <td>4</td>\n",
              "      <td>25</td>\n",
              "      <td>1</td>\n",
              "      <td>25</td>\n",
              "      <td>1</td>\n",
              "      <td>2020-04-11</td>\n",
              "      <td>2020-04-07</td>\n",
              "      <td>9999-99-99</td>\n",
              "      <td>97</td>\n",
              "      <td>2</td>\n",
              "      <td>42</td>\n",
              "      <td>1</td>\n",
              "      <td>2</td>\n",
              "      <td>2</td>\n",
              "      <td>2</td>\n",
              "      <td>2</td>\n",
              "      <td>2</td>\n",
              "      <td>2</td>\n",
              "      <td>2</td>\n",
              "      <td>2</td>\n",
              "      <td>2</td>\n",
              "      <td>2</td>\n",
              "      <td>99</td>\n",
              "      <td>1</td>\n",
              "      <td>97</td>\n",
              "    </tr>\n",
              "    <tr>\n",
              "      <th>3</th>\n",
              "      <td>3</td>\n",
              "      <td>4</td>\n",
              "      <td>2</td>\n",
              "      <td>2</td>\n",
              "      <td>2</td>\n",
              "      <td>1</td>\n",
              "      <td>2020-04-17</td>\n",
              "      <td>2020-04-05</td>\n",
              "      <td>9999-99-99</td>\n",
              "      <td>97</td>\n",
              "      <td>2</td>\n",
              "      <td>45</td>\n",
              "      <td>1</td>\n",
              "      <td>2</td>\n",
              "      <td>2</td>\n",
              "      <td>2</td>\n",
              "      <td>2</td>\n",
              "      <td>2</td>\n",
              "      <td>2</td>\n",
              "      <td>2</td>\n",
              "      <td>2</td>\n",
              "      <td>2</td>\n",
              "      <td>2</td>\n",
              "      <td>99</td>\n",
              "      <td>1</td>\n",
              "      <td>97</td>\n",
              "    </tr>\n",
              "    <tr>\n",
              "      <th>4</th>\n",
              "      <td>4</td>\n",
              "      <td>4</td>\n",
              "      <td>28</td>\n",
              "      <td>1</td>\n",
              "      <td>28</td>\n",
              "      <td>2</td>\n",
              "      <td>2020-04-17</td>\n",
              "      <td>2020-04-10</td>\n",
              "      <td>9999-99-99</td>\n",
              "      <td>2</td>\n",
              "      <td>2</td>\n",
              "      <td>38</td>\n",
              "      <td>1</td>\n",
              "      <td>2</td>\n",
              "      <td>2</td>\n",
              "      <td>2</td>\n",
              "      <td>2</td>\n",
              "      <td>2</td>\n",
              "      <td>2</td>\n",
              "      <td>2</td>\n",
              "      <td>2</td>\n",
              "      <td>2</td>\n",
              "      <td>2</td>\n",
              "      <td>99</td>\n",
              "      <td>1</td>\n",
              "      <td>2</td>\n",
              "    </tr>\n",
              "  </tbody>\n",
              "</table>\n",
              "</div>"
            ],
            "text/plain": [
              "   #  SECTOR  ENTIDAD_UM  SEXO  ENTIDAD_RES  TIPO_PACIENTE FECHA_INGRESO  \\\n",
              "0  0       4           2     1            2              1    2020-04-07   \n",
              "1  1       4           9     2            9              2    2020-04-15   \n",
              "2  2       4          25     1           25              1    2020-04-11   \n",
              "3  3       4           2     2            2              1    2020-04-17   \n",
              "4  4       4          28     1           28              2    2020-04-17   \n",
              "\n",
              "  FECHA_SINTOMAS   FECHA_DEF  INTUBADO  NEUMONIA  EDAD  NACIONALIDAD  \\\n",
              "0     2020-04-04  9999-99-99        97         2    28             1   \n",
              "1     2020-04-07  2020-04-16         2         2    76             1   \n",
              "2     2020-04-07  9999-99-99        97         2    42             1   \n",
              "3     2020-04-05  9999-99-99        97         2    45             1   \n",
              "4     2020-04-10  9999-99-99         2         2    38             1   \n",
              "\n",
              "   DIABETES  EPOC  ASMA  INMUSUPR  HIPERTENSION  OTRA_CON  CARDIOVASCULAR  \\\n",
              "0         2     2     2         2             2         1               2   \n",
              "1         1     2     2         1             1         2               2   \n",
              "2         2     2     2         2             2         2               2   \n",
              "3         2     2     2         2             2         2               2   \n",
              "4         2     2     2         2             2         2               2   \n",
              "\n",
              "   OBESIDAD  RENAL_CRONICA  TABAQUISMO  OTRO_CASO  RESULTADO  UCI  \n",
              "0         2              2           2         99          1   97  \n",
              "1         1              1           2         99          1    2  \n",
              "2         2              2           2         99          1   97  \n",
              "3         2              2           2         99          1   97  \n",
              "4         2              2           2         99          1    2  "
            ]
          },
          "metadata": {
            "tags": []
          }
        },
        {
          "output_type": "stream",
          "text": [
            "<class 'pandas.core.frame.DataFrame'>\n",
            "RangeIndex: 684804 entries, 0 to 684803\n",
            "Data columns (total 26 columns):\n",
            " #   Column          Non-Null Count   Dtype \n",
            "---  ------          --------------   ----- \n",
            " 0   #               684804 non-null  int64 \n",
            " 1   SECTOR          684804 non-null  int64 \n",
            " 2   ENTIDAD_UM      684804 non-null  int64 \n",
            " 3   SEXO            684804 non-null  int64 \n",
            " 4   ENTIDAD_RES     684804 non-null  int64 \n",
            " 5   TIPO_PACIENTE   684804 non-null  int64 \n",
            " 6   FECHA_INGRESO   684804 non-null  object\n",
            " 7   FECHA_SINTOMAS  684804 non-null  object\n",
            " 8   FECHA_DEF       684804 non-null  object\n",
            " 9   INTUBADO        684804 non-null  int64 \n",
            " 10  NEUMONIA        684804 non-null  int64 \n",
            " 11  EDAD            684804 non-null  int64 \n",
            " 12  NACIONALIDAD    684804 non-null  int64 \n",
            " 13  DIABETES        684804 non-null  int64 \n",
            " 14  EPOC            684804 non-null  int64 \n",
            " 15  ASMA            684804 non-null  int64 \n",
            " 16  INMUSUPR        684804 non-null  int64 \n",
            " 17  HIPERTENSION    684804 non-null  int64 \n",
            " 18  OTRA_CON        684804 non-null  int64 \n",
            " 19  CARDIOVASCULAR  684804 non-null  int64 \n",
            " 20  OBESIDAD        684804 non-null  int64 \n",
            " 21  RENAL_CRONICA   684804 non-null  int64 \n",
            " 22  TABAQUISMO      684804 non-null  int64 \n",
            " 23  OTRO_CASO       684804 non-null  int64 \n",
            " 24  RESULTADO       684804 non-null  int64 \n",
            " 25  UCI             684804 non-null  int64 \n",
            "dtypes: int64(23), object(3)\n",
            "memory usage: 135.8+ MB\n",
            "None\n"
          ],
          "name": "stdout"
        }
      ]
    },
    {
      "cell_type": "markdown",
      "metadata": {
        "id": "U2DnPUN968_6"
      },
      "source": [
        "## Limpieza y Transformación de datos"
      ]
    },
    {
      "cell_type": "code",
      "metadata": {
        "id": "-ACSlsdx6-1i"
      },
      "source": [
        "# Realizando limpieza de datos\r\n",
        "\r\n",
        "from sklearn.preprocessing import StandardScaler\r\n",
        "features = general.copy()\r\n",
        "\r\n",
        "# Modificando datos de fechas\r\n",
        "features['FECHA_INGRESO'] = pd.to_datetime(features['FECHA_INGRESO'])\r\n",
        "features['FECHA_SINTOMAS'] = pd.to_datetime(features['FECHA_SINTOMAS'])\r\n",
        "features['MUERTE'] = (features['FECHA_DEF'] != '9999-99-99').replace([True, False], [1, 0])\r\n",
        "features['FECHA_DEF'].replace({'9999-99-99': '2099-01-01'}, inplace=True)\r\n",
        "features['FECHA_DEF'] = pd.to_datetime(features['FECHA_DEF'])\r\n",
        "features['DIAS'] = (features['FECHA_DEF'] - features['FECHA_SINTOMAS']).dt.days\r\n"
      ],
      "execution_count": null,
      "outputs": []
    },
    {
      "cell_type": "code",
      "metadata": {
        "id": "R6KVt82L7Cec"
      },
      "source": [
        "# Seleccionando entradas y salidas\r\n",
        "cond_headers = ['DIABETES', 'EPOC', 'ASMA', 'INMUSUPR', 'HIPERTENSION', 'CARDIOVASCULAR', 'OBESIDAD', 'RENAL_CRONICA', 'TABAQUISMO', 'OTRA_CON']\r\n",
        "outcome_headers = ['NEUMONIA', 'INTUBADO', 'UCI', 'MUERTE']\r\n",
        "\r\n",
        "# Formato con caracteristicas binarias\r\n",
        "binary_headers = list(set(features.columns) - set(['index', 'EDAD']))\r\n",
        "features[binary_headers] = features[binary_headers].replace({1: 1, 2: 0, 3: np.nan, 97: np.nan, 98: np.nan, 99: np.nan})\r\n",
        "features.loc[:] = features.dropna()"
      ],
      "execution_count": null,
      "outputs": []
    },
    {
      "cell_type": "code",
      "metadata": {
        "colab": {
          "base_uri": "https://localhost:8080/",
          "height": 442
        },
        "id": "R5jOKNdl7Fki",
        "outputId": "5197fb5e-7dcf-4a5d-929f-85afa97c4bee"
      },
      "source": [
        "# Seleccionando solo los casos de COVID, se eliminan las columnas que no se usan\r\n",
        "# o no tienen tanta importancia en el analisis\r\n",
        "infectados = features[features['RESULTADO'] == 1]\r\n",
        "infectados = infectados.drop(columns=['SECTOR', 'ENTIDAD_UM', 'ENTIDAD_RES', 'TIPO_PACIENTE', 'NACIONALIDAD', \r\n",
        "                                'OTRO_CASO', 'FECHA_INGRESO', 'FECHA_SINTOMAS', 'FECHA_DEF', 'RESULTADO', '#'])\r\n",
        "\r\n",
        "feature_headers = list(set(infectados.columns) - set(outcome_headers))\r\n",
        "\r\n",
        "display(infectados.info())"
      ],
      "execution_count": null,
      "outputs": [
        {
          "output_type": "stream",
          "text": [
            "<class 'pandas.core.frame.DataFrame'>\n",
            "Int64Index: 36258 entries, 2826 to 274997\n",
            "Data columns (total 17 columns):\n",
            " #   Column          Non-Null Count  Dtype  \n",
            "---  ------          --------------  -----  \n",
            " 0   SEXO            36258 non-null  float64\n",
            " 1   INTUBADO        36258 non-null  float64\n",
            " 2   NEUMONIA        36258 non-null  float64\n",
            " 3   EDAD            36258 non-null  float64\n",
            " 4   DIABETES        36258 non-null  float64\n",
            " 5   EPOC            36258 non-null  float64\n",
            " 6   ASMA            36258 non-null  float64\n",
            " 7   INMUSUPR        36258 non-null  float64\n",
            " 8   HIPERTENSION    36258 non-null  float64\n",
            " 9   OTRA_CON        36258 non-null  float64\n",
            " 10  CARDIOVASCULAR  36258 non-null  float64\n",
            " 11  OBESIDAD        36258 non-null  float64\n",
            " 12  RENAL_CRONICA   36258 non-null  float64\n",
            " 13  TABAQUISMO      36258 non-null  float64\n",
            " 14  UCI             36258 non-null  float64\n",
            " 15  MUERTE          36258 non-null  float64\n",
            " 16  DIAS            36258 non-null  float64\n",
            "dtypes: float64(17)\n",
            "memory usage: 5.0 MB\n"
          ],
          "name": "stdout"
        },
        {
          "output_type": "display_data",
          "data": {
            "text/plain": [
              "None"
            ]
          },
          "metadata": {
            "tags": []
          }
        }
      ]
    },
    {
      "cell_type": "markdown",
      "metadata": {
        "id": "M70tcvjX7Yx1"
      },
      "source": [
        "## Resultados "
      ]
    },
    {
      "cell_type": "code",
      "metadata": {
        "colab": {
          "base_uri": "https://localhost:8080/",
          "height": 358
        },
        "id": "cf_3aZ_g7YVg",
        "outputId": "e5462e73-4102-4b2f-81cf-4b3d7aaeb764"
      },
      "source": [
        "# Pacientes que resultaron con algun padecimiento al contraer Covid-19\r\n",
        "\r\n",
        "fig, ax = plt.subplots(1, len(outcome_headers), figsize=(25,5))\r\n",
        "for i, target in enumerate(outcome_headers):\r\n",
        "    groups = infectados[cond_headers + [target, 'SEXO']].groupby([target, 'SEXO']).sum()\r\n",
        "    groups = groups.unstack().unstack().reset_index(name='count')\r\n",
        "    groups.replace('SEXO', {0:'HOMBRE', 1:'MUJER'}, inplace=True)\r\n",
        "\r\n",
        "    alive = groups[groups[target]==0]\r\n",
        "    dead = groups[groups[target]==1].copy()\r\n",
        "    rate = dead['count'] / (dead['count'] + alive['count'].values)\r\n",
        "    dead['rate']=rate\r\n",
        "\r\n",
        "    sns.barplot(data=dead.sort_values('rate', axis='rows', ascending=False),\r\n",
        "                ax=ax[i],\r\n",
        "                x='level_0',\r\n",
        "                y='rate',\r\n",
        "                hue='SEXO',\r\n",
        "                palette=sns.color_palette(\"BrBG\", 2))\r\n",
        "    ax[i].tick_params(labelrotation=60)\r\n",
        "    ax[i].set_title('Porcentaje de pacientes que resultaron en ' + target)\r\n",
        "    ax[i].set_xlabel('')\r\n",
        "    ax[i].set_ylabel('')\r\n",
        "plt.show()"
      ],
      "execution_count": null,
      "outputs": [
        {
          "output_type": "display_data",
          "data": {
            "image/png": "[encoded data removed]",
            "text/plain": [
              "<Figure size 1800x360 with 4 Axes>"
            ]
          },
          "metadata": {
            "tags": [],
            "needs_background": "light"
          }
        }
      ]
    },
    {
      "cell_type": "code",
      "metadata": {
        "colab": {
          "base_uri": "https://localhost:8080/",
          "height": 423
        },
        "id": "Pvdm4dH-7fx2",
        "outputId": "1778583b-33dd-449f-a089-6ce50c276a84"
      },
      "source": [
        "# Histogramas de comparación de muertes por edades y sexo\r\n",
        "\r\n",
        "fig, ax = plt.subplots(1, 3, figsize=(25, 5))\r\n",
        "ax[0].grid()\r\n",
        "ax[1].grid()\r\n",
        "\r\n",
        "# Realizando histograma de muertes\r\n",
        "data = infectados[infectados['MUERTE']==1]['DIAS']\r\n",
        "sns.distplot(data, ax = ax[0]).set_title('Dias desde los sintomas hasta la muerte')\r\n",
        "ax[0].set_xlabel('dias')\r\n",
        "plt.sca(ax[0])\r\n",
        "plt.xlim(0, 40)\r\n",
        "\r\n",
        "# Histograma de edades\r\n",
        "data = infectados['EDAD']\r\n",
        "sns.distplot(data,\r\n",
        "             hist=True, \r\n",
        "             kde=False, \r\n",
        "             ax=ax[1], \r\n",
        "             label='Casos Totales').set_title('DIstribución de muerte por edad')\r\n",
        "data = infectados[infectados['MUERTE']==1]['EDAD']\r\n",
        "sns.distplot(data, \r\n",
        "             hist=True,\r\n",
        "             kde=False,\r\n",
        "             ax=ax[1],\r\n",
        "             label='Muertes').set_title('Distribución de casos por edad')\r\n",
        "ax[1].legend()\r\n",
        "ax[1].set_xlabel('edad')\r\n",
        "\r\n",
        "# Death histogram\r\n",
        "sns.lineplot(data=infectados.replace('SEXO', {0: 'Hombre', 1: 'Mujer'}),\r\n",
        "             x='EDAD',\r\n",
        "             y='MUERTE',\r\n",
        "             hue='SEXO',\r\n",
        "             ci=None,\r\n",
        "             ax=ax[2]).set_title('Tasa de muerte por edad y sexo')\r\n",
        "ax[2].set_xlabel('edad')\r\n",
        "ax[2].set_ylabel('')\r\n",
        "plt.sca(ax[2])\r\n",
        "plt.xlim(20, 80)\r\n",
        "plt.ylim(0, .6)\r\n",
        "\r\n",
        "plt.show()"
      ],
      "execution_count": null,
      "outputs": [
        {
          "output_type": "stream",
          "text": [
            "/usr/local/lib/python3.7/dist-packages/seaborn/distributions.py:2557: FutureWarning: `distplot` is a deprecated function and will be removed in a future version. Please adapt your code to use either `displot` (a figure-level function with similar flexibility) or `histplot` (an axes-level function for histograms).\n",
            "  warnings.warn(msg, FutureWarning)\n",
            "/usr/local/lib/python3.7/dist-packages/seaborn/distributions.py:2557: FutureWarning: `distplot` is a deprecated function and will be removed in a future version. Please adapt your code to use either `displot` (a figure-level function with similar flexibility) or `histplot` (an axes-level function for histograms).\n",
            "  warnings.warn(msg, FutureWarning)\n",
            "/usr/local/lib/python3.7/dist-packages/seaborn/distributions.py:2557: FutureWarning: `distplot` is a deprecated function and will be removed in a future version. Please adapt your code to use either `displot` (a figure-level function with similar flexibility) or `histplot` (an axes-level function for histograms).\n",
            "  warnings.warn(msg, FutureWarning)\n"
          ],
          "name": "stderr"
        },
        {
          "output_type": "display_data",
          "data": {
            "image/png": "[encoded data removed]",
            "text/plain": [
              "<Figure size 1800x360 with 3 Axes>"
            ]
          },
          "metadata": {
            "tags": [],
            "needs_background": "light"
          }
        }
      ]
    },
    {
      "cell_type": "markdown",
      "metadata": {
        "id": "DWta7DRKmpvn"
      },
      "source": [
        "# **Repercusiones ecónomicas en México a causa de la Pandemia**\n",
        "\n",
        "\n",
        "\n",
        "\n"
      ]
    },
    {
      "cell_type": "markdown",
      "metadata": {
        "id": "FVDXp9LbnnhF"
      },
      "source": [
        "# Producto Interno Bruto (PIB)"
      ]
    },
    {
      "cell_type": "markdown",
      "metadata": {
        "id": "hrdjcNwdUiFP"
      },
      "source": [
        "# Análisis Exploratorio"
      ]
    },
    {
      "cell_type": "code",
      "metadata": {
        "id": "OO2t8YS9y-8A"
      },
      "source": [
        "# Pandas te permite hacer web scrapping de una manera sencilla, con read_html te traes como df las tablas que tenga el sitio web\n",
        "pib = pd.read_html(\"https://www.proyectosmexico.gob.mx/por-que-invertir-en-mexico/economia-solida/crecimiento-economico/sd_tasa-de-desempleo-paises-miembros-de-la-ocde/\")"
      ],
      "execution_count": null,
      "outputs": []
    },
    {
      "cell_type": "code",
      "metadata": {
        "id": "y54f5tou0INc"
      },
      "source": [
        "#Transformamos la lista en un dataframe\n",
        "df = pd.DataFrame(pib[0])"
      ],
      "execution_count": null,
      "outputs": []
    },
    {
      "cell_type": "code",
      "metadata": {
        "colab": {
          "base_uri": "https://localhost:8080/"
        },
        "id": "syYTTcZcU5kO",
        "outputId": "3146b285-a36c-40a6-f99c-24f6327e85c2"
      },
      "source": [
        "#Revisamos el dataframe y vemos qué datos contiene \r\n",
        "df"
      ],
      "execution_count": null,
      "outputs": [
        {
          "output_type": "execute_result",
          "data": {
            "text/html": [
              "<div>\n",
              "<style scoped>\n",
              "    .dataframe tbody tr th:only-of-type {\n",
              "        vertical-align: middle;\n",
              "    }\n",
              "\n",
              "    .dataframe tbody tr th {\n",
              "        vertical-align: top;\n",
              "    }\n",
              "\n",
              "    .dataframe thead th {\n",
              "        text-align: right;\n",
              "    }\n",
              "</style>\n",
              "<table border=\"1\" class=\"dataframe\">\n",
              "  <thead>\n",
              "    <tr style=\"text-align: right;\">\n",
              "      <th></th>\n",
              "      <th>wdt_ID</th>\n",
              "      <th>Año</th>\n",
              "      <th>Variación anual</th>\n",
              "    </tr>\n",
              "  </thead>\n",
              "  <tbody>\n",
              "    <tr>\n",
              "      <th>0</th>\n",
              "      <td>3</td>\n",
              "      <td>2008</td>\n",
              "      <td>1.40</td>\n",
              "    </tr>\n",
              "    <tr>\n",
              "      <th>1</th>\n",
              "      <td>4</td>\n",
              "      <td>2009</td>\n",
              "      <td>-4.70</td>\n",
              "    </tr>\n",
              "    <tr>\n",
              "      <th>2</th>\n",
              "      <td>5</td>\n",
              "      <td>2010</td>\n",
              "      <td>5.10</td>\n",
              "    </tr>\n",
              "    <tr>\n",
              "      <th>3</th>\n",
              "      <td>6</td>\n",
              "      <td>2011</td>\n",
              "      <td>4.00</td>\n",
              "    </tr>\n",
              "    <tr>\n",
              "      <th>4</th>\n",
              "      <td>7</td>\n",
              "      <td>2012</td>\n",
              "      <td>4.00</td>\n",
              "    </tr>\n",
              "    <tr>\n",
              "      <th>5</th>\n",
              "      <td>8</td>\n",
              "      <td>2013</td>\n",
              "      <td>1.40</td>\n",
              "    </tr>\n",
              "    <tr>\n",
              "      <th>6</th>\n",
              "      <td>9</td>\n",
              "      <td>2014</td>\n",
              "      <td>2.20</td>\n",
              "    </tr>\n",
              "    <tr>\n",
              "      <th>7</th>\n",
              "      <td>10</td>\n",
              "      <td>2015</td>\n",
              "      <td>2.50</td>\n",
              "    </tr>\n",
              "    <tr>\n",
              "      <th>8</th>\n",
              "      <td>11</td>\n",
              "      <td>2016</td>\n",
              "      <td>2.40</td>\n",
              "    </tr>\n",
              "    <tr>\n",
              "      <th>9</th>\n",
              "      <td>12</td>\n",
              "      <td>2017</td>\n",
              "      <td>2.20</td>\n",
              "    </tr>\n",
              "    <tr>\n",
              "      <th>10</th>\n",
              "      <td>wdt_ID</td>\n",
              "      <td>Año</td>\n",
              "      <td>Variación anual</td>\n",
              "    </tr>\n",
              "  </tbody>\n",
              "</table>\n",
              "</div>"
            ],
            "text/plain": [
              "    wdt_ID   Año  Variación anual\n",
              "0        3  2008             1.40\n",
              "1        4  2009            -4.70\n",
              "2        5  2010             5.10\n",
              "3        6  2011             4.00\n",
              "4        7  2012             4.00\n",
              "5        8  2013             1.40\n",
              "6        9  2014             2.20\n",
              "7       10  2015             2.50\n",
              "8       11  2016             2.40\n",
              "9       12  2017             2.20\n",
              "10  wdt_ID   Año  Variación anual"
            ]
          },
          "metadata": {
            "tags": []
          },
          "execution_count": 274
        }
      ]
    },
    {
      "cell_type": "markdown",
      "metadata": {
        "id": "lgjjvNXlVUDO"
      },
      "source": [
        "# Limpieza de datos"
      ]
    },
    {
      "cell_type": "code",
      "metadata": {
        "id": "U04iKdRkaLsZ"
      },
      "source": [
        "#Agregamos algunas filas que no se vinieron\r\n",
        "df=df.append({'Año' : str(2018), 'Variación anual': 2.02 }, ignore_index=True)\r\n",
        "df=df.append({'Año' : str(2019), 'Variación anual': -0.10 }, ignore_index=True)\r\n",
        "df=df.append({'Año' : str(2020), 'Variación anual': -8.50 }, ignore_index=True)"
      ],
      "execution_count": null,
      "outputs": []
    },
    {
      "cell_type": "code",
      "metadata": {
        "id": "oQwyQuV2akWA"
      },
      "source": [
        "#Eliminamos la fila 10 que no nos servirá \r\n",
        "df = df.drop(10,axis=0)"
      ],
      "execution_count": null,
      "outputs": []
    },
    {
      "cell_type": "code",
      "metadata": {
        "id": "_sDeeV_xbZzR"
      },
      "source": [
        "#Eliminamos columna wdt_ID el cual tampoco nos servirá\r\n",
        "df = df.drop('wdt_ID',axis=1)"
      ],
      "execution_count": null,
      "outputs": []
    },
    {
      "cell_type": "markdown",
      "metadata": {
        "id": "tzglBV1VW2KG"
      },
      "source": [
        "# Transformación de datos\r\n"
      ]
    },
    {
      "cell_type": "code",
      "metadata": {
        "id": "gQ09m1-CgP44"
      },
      "source": [
        "#Como la variación anual está como string se debe de pasar a valores númericos para poder gráficar\r\n",
        "df['Variación anual'] = pd.to_numeric(df['Variación anual'])\r\n"
      ],
      "execution_count": null,
      "outputs": []
    },
    {
      "cell_type": "markdown",
      "metadata": {
        "id": "hrryYUZrXG8O"
      },
      "source": [
        "# Resultados\r\n"
      ]
    },
    {
      "cell_type": "code",
      "metadata": {
        "colab": {
          "base_uri": "https://localhost:8080/"
        },
        "id": "1t9x23GNYOoG",
        "outputId": "34f05ec7-6a5a-4e25-fbe5-49c5de7abf90"
      },
      "source": [
        "# Gráficamos los resultados con matplotlib\r\n",
        "plt.plot( 'Año', 'Variación anual', data=df, linestyle='-', marker='o')\r\n"
      ],
      "execution_count": null,
      "outputs": [
        {
          "output_type": "execute_result",
          "data": {
            "text/plain": [
              "[<matplotlib.lines.Line2D at 0x7f7ca30d3e10>]"
            ]
          },
          "metadata": {
            "tags": []
          },
          "execution_count": 279
        },
        {
          "output_type": "display_data",
          "data": {
            "image/png": "[encoded data removed]",
            "text/plain": [
              "<Figure size 432x288 with 1 Axes>"
            ]
          },
          "metadata": {
            "tags": [],
            "needs_background": "light"
          }
        }
      ]
    },
    {
      "cell_type": "markdown",
      "metadata": {
        "id": "INOGhTP1n5iH"
      },
      "source": [
        "# Tasa de desempleo\n",
        "\n"
      ]
    },
    {
      "cell_type": "markdown",
      "metadata": {
        "id": "2L0hlVMjsFLZ"
      },
      "source": [
        "# Análisis Exploratorio"
      ]
    },
    {
      "cell_type": "code",
      "metadata": {
        "id": "vTDNHS1-sFLh"
      },
      "source": [
        "# Pandas te permite hacer web scrapping de una manera sencilla, con read_html te traes como df las tablas que tenga el sitio web\n",
        "desempleo = pd.read_html(\"https://www.proyectosmexico.gob.mx/por-que-invertir-en-mexico/mercado-potencial/sd_historico-tasa-de-desempleo-en-mexico/\")"
      ],
      "execution_count": null,
      "outputs": []
    },
    {
      "cell_type": "code",
      "metadata": {
        "id": "G9bRiEmYsFLi"
      },
      "source": [
        "#Transformamos la lista en un dataframe\n",
        "df = pd.DataFrame(desempleo[0])"
      ],
      "execution_count": null,
      "outputs": []
    },
    {
      "cell_type": "code",
      "metadata": {
        "colab": {
          "base_uri": "https://localhost:8080/"
        },
        "id": "4Jxml3CUsFLi",
        "outputId": "333155d5-74d9-4e4a-9fae-9678bfcba04d"
      },
      "source": [
        "#Revisamos el dataframe y vemos qué datos contiene \r\n",
        "df"
      ],
      "execution_count": null,
      "outputs": [
        {
          "output_type": "execute_result",
          "data": {
            "text/html": [
              "<div>\n",
              "<style scoped>\n",
              "    .dataframe tbody tr th:only-of-type {\n",
              "        vertical-align: middle;\n",
              "    }\n",
              "\n",
              "    .dataframe tbody tr th {\n",
              "        vertical-align: top;\n",
              "    }\n",
              "\n",
              "    .dataframe thead th {\n",
              "        text-align: right;\n",
              "    }\n",
              "</style>\n",
              "<table border=\"1\" class=\"dataframe\">\n",
              "  <thead>\n",
              "    <tr style=\"text-align: right;\">\n",
              "      <th></th>\n",
              "      <th>wdt_ID</th>\n",
              "      <th>Año</th>\n",
              "      <th>Tasa de Desempleo</th>\n",
              "    </tr>\n",
              "  </thead>\n",
              "  <tbody>\n",
              "    <tr>\n",
              "      <th>0</th>\n",
              "      <td>1</td>\n",
              "      <td>2006</td>\n",
              "      <td>3.20</td>\n",
              "    </tr>\n",
              "    <tr>\n",
              "      <th>1</th>\n",
              "      <td>2</td>\n",
              "      <td>2007</td>\n",
              "      <td>3.40</td>\n",
              "    </tr>\n",
              "    <tr>\n",
              "      <th>2</th>\n",
              "      <td>3</td>\n",
              "      <td>2008</td>\n",
              "      <td>3.50</td>\n",
              "    </tr>\n",
              "    <tr>\n",
              "      <th>3</th>\n",
              "      <td>4</td>\n",
              "      <td>2009</td>\n",
              "      <td>5.10</td>\n",
              "    </tr>\n",
              "    <tr>\n",
              "      <th>4</th>\n",
              "      <td>5</td>\n",
              "      <td>2010</td>\n",
              "      <td>5.10</td>\n",
              "    </tr>\n",
              "    <tr>\n",
              "      <th>5</th>\n",
              "      <td>6</td>\n",
              "      <td>2011</td>\n",
              "      <td>5.30</td>\n",
              "    </tr>\n",
              "    <tr>\n",
              "      <th>6</th>\n",
              "      <td>7</td>\n",
              "      <td>2012</td>\n",
              "      <td>4.90</td>\n",
              "    </tr>\n",
              "    <tr>\n",
              "      <th>7</th>\n",
              "      <td>8</td>\n",
              "      <td>2013</td>\n",
              "      <td>4.90</td>\n",
              "    </tr>\n",
              "    <tr>\n",
              "      <th>8</th>\n",
              "      <td>9</td>\n",
              "      <td>2014</td>\n",
              "      <td>4.60</td>\n",
              "    </tr>\n",
              "    <tr>\n",
              "      <th>9</th>\n",
              "      <td>10</td>\n",
              "      <td>2015</td>\n",
              "      <td>4.20</td>\n",
              "    </tr>\n",
              "    <tr>\n",
              "      <th>10</th>\n",
              "      <td>wdt_ID</td>\n",
              "      <td>Año</td>\n",
              "      <td>Tasa de Desempleo</td>\n",
              "    </tr>\n",
              "  </tbody>\n",
              "</table>\n",
              "</div>"
            ],
            "text/plain": [
              "    wdt_ID   Año  Tasa de Desempleo\n",
              "0        1  2006               3.20\n",
              "1        2  2007               3.40\n",
              "2        3  2008               3.50\n",
              "3        4  2009               5.10\n",
              "4        5  2010               5.10\n",
              "5        6  2011               5.30\n",
              "6        7  2012               4.90\n",
              "7        8  2013               4.90\n",
              "8        9  2014               4.60\n",
              "9       10  2015               4.20\n",
              "10  wdt_ID   Año  Tasa de Desempleo"
            ]
          },
          "metadata": {
            "tags": []
          },
          "execution_count": 266
        }
      ]
    },
    {
      "cell_type": "markdown",
      "metadata": {
        "id": "2uPZ2ZeFtNXh"
      },
      "source": [
        "# Limpieza de datos"
      ]
    },
    {
      "cell_type": "code",
      "metadata": {
        "id": "PpGSvZAEtNXr"
      },
      "source": [
        "#Agregamos algunas filas que no se vinieron\r\n",
        "df=df.append({'Año' : str(2016), 'Tasa de Desempleo': 3.90 }, ignore_index=True)\r\n",
        "df=df.append({'Año' : str(2017), 'Tasa de Desempleo': 3.40 }, ignore_index=True)\r\n",
        "df=df.append({'Año' : str(2018), 'Tasa de Desempleo': 3.60 }, ignore_index=True)\r\n",
        "df=df.append({'Año' : str(2019), 'Tasa de Desempleo': 3.10 }, ignore_index=True)\r\n",
        "df=df.append({'Año' : str(2020), 'Tasa de Desempleo': 4.50 }, ignore_index=True)"
      ],
      "execution_count": null,
      "outputs": []
    },
    {
      "cell_type": "code",
      "metadata": {
        "colab": {
          "base_uri": "https://localhost:8080/"
        },
        "id": "zhTCrrYstNXs",
        "outputId": "e3ea7bf5-4292-450b-a845-b7fa8c5a381e"
      },
      "source": [
        "#Eliminamos la fila 0,1,2,10 que no nos servirá \r\n",
        "df = df.drop(0,axis=0)\r\n",
        "df = df.drop(1,axis=0)\r\n",
        "df = df.drop(2,axis=0)\r\n",
        "df = df.drop(10,axis=0)\r\n",
        "df"
      ],
      "execution_count": null,
      "outputs": [
        {
          "output_type": "execute_result",
          "data": {
            "text/html": [
              "<div>\n",
              "<style scoped>\n",
              "    .dataframe tbody tr th:only-of-type {\n",
              "        vertical-align: middle;\n",
              "    }\n",
              "\n",
              "    .dataframe tbody tr th {\n",
              "        vertical-align: top;\n",
              "    }\n",
              "\n",
              "    .dataframe thead th {\n",
              "        text-align: right;\n",
              "    }\n",
              "</style>\n",
              "<table border=\"1\" class=\"dataframe\">\n",
              "  <thead>\n",
              "    <tr style=\"text-align: right;\">\n",
              "      <th></th>\n",
              "      <th>wdt_ID</th>\n",
              "      <th>Año</th>\n",
              "      <th>Tasa de Desempleo</th>\n",
              "    </tr>\n",
              "  </thead>\n",
              "  <tbody>\n",
              "    <tr>\n",
              "      <th>3</th>\n",
              "      <td>4</td>\n",
              "      <td>2009</td>\n",
              "      <td>5.10</td>\n",
              "    </tr>\n",
              "    <tr>\n",
              "      <th>4</th>\n",
              "      <td>5</td>\n",
              "      <td>2010</td>\n",
              "      <td>5.10</td>\n",
              "    </tr>\n",
              "    <tr>\n",
              "      <th>5</th>\n",
              "      <td>6</td>\n",
              "      <td>2011</td>\n",
              "      <td>5.30</td>\n",
              "    </tr>\n",
              "    <tr>\n",
              "      <th>6</th>\n",
              "      <td>7</td>\n",
              "      <td>2012</td>\n",
              "      <td>4.90</td>\n",
              "    </tr>\n",
              "    <tr>\n",
              "      <th>7</th>\n",
              "      <td>8</td>\n",
              "      <td>2013</td>\n",
              "      <td>4.90</td>\n",
              "    </tr>\n",
              "    <tr>\n",
              "      <th>8</th>\n",
              "      <td>9</td>\n",
              "      <td>2014</td>\n",
              "      <td>4.60</td>\n",
              "    </tr>\n",
              "    <tr>\n",
              "      <th>9</th>\n",
              "      <td>10</td>\n",
              "      <td>2015</td>\n",
              "      <td>4.20</td>\n",
              "    </tr>\n",
              "    <tr>\n",
              "      <th>11</th>\n",
              "      <td>NaN</td>\n",
              "      <td>2016</td>\n",
              "      <td>3.9</td>\n",
              "    </tr>\n",
              "    <tr>\n",
              "      <th>12</th>\n",
              "      <td>NaN</td>\n",
              "      <td>2017</td>\n",
              "      <td>3.4</td>\n",
              "    </tr>\n",
              "    <tr>\n",
              "      <th>13</th>\n",
              "      <td>NaN</td>\n",
              "      <td>2018</td>\n",
              "      <td>3.6</td>\n",
              "    </tr>\n",
              "    <tr>\n",
              "      <th>14</th>\n",
              "      <td>NaN</td>\n",
              "      <td>2019</td>\n",
              "      <td>3.1</td>\n",
              "    </tr>\n",
              "    <tr>\n",
              "      <th>15</th>\n",
              "      <td>NaN</td>\n",
              "      <td>2020</td>\n",
              "      <td>4.5</td>\n",
              "    </tr>\n",
              "  </tbody>\n",
              "</table>\n",
              "</div>"
            ],
            "text/plain": [
              "   wdt_ID   Año Tasa de Desempleo\n",
              "3       4  2009              5.10\n",
              "4       5  2010              5.10\n",
              "5       6  2011              5.30\n",
              "6       7  2012              4.90\n",
              "7       8  2013              4.90\n",
              "8       9  2014              4.60\n",
              "9      10  2015              4.20\n",
              "11    NaN  2016               3.9\n",
              "12    NaN  2017               3.4\n",
              "13    NaN  2018               3.6\n",
              "14    NaN  2019               3.1\n",
              "15    NaN  2020               4.5"
            ]
          },
          "metadata": {
            "tags": []
          },
          "execution_count": 268
        }
      ]
    },
    {
      "cell_type": "code",
      "metadata": {
        "id": "F-V_AfS2tNXs"
      },
      "source": [
        "#Eliminamos columna wdt_ID el cual tampoco nos servirá\r\n",
        "df = df.drop('wdt_ID',axis=1)"
      ],
      "execution_count": null,
      "outputs": []
    },
    {
      "cell_type": "markdown",
      "metadata": {
        "id": "VzHlDdVAuGHx"
      },
      "source": [
        "# Transformación de datos\r\n"
      ]
    },
    {
      "cell_type": "code",
      "metadata": {
        "id": "x6utmRpXuGH0"
      },
      "source": [
        "#Como la variación anual está como string se debe de pasar a valores númericos para poder gráficar\r\n",
        "df['Tasa de Desempleo'] = pd.to_numeric(df['Tasa de Desempleo'])\r\n"
      ],
      "execution_count": null,
      "outputs": []
    },
    {
      "cell_type": "markdown",
      "metadata": {
        "id": "zguuTxIYuP9o"
      },
      "source": [
        "# Resultados\r\n"
      ]
    },
    {
      "cell_type": "code",
      "metadata": {
        "colab": {
          "base_uri": "https://localhost:8080/",
          "height": 282
        },
        "id": "eto372Ceuwct",
        "outputId": "e19008a5-d454-4677-adc6-0d240687d451"
      },
      "source": [
        "# Gráficamos los resultados con matplotlib\r\n",
        "plt.plot( 'Año', 'Tasa de Desempleo', data=df, linestyle='-', marker='o')"
      ],
      "execution_count": null,
      "outputs": [
        {
          "output_type": "execute_result",
          "data": {
            "text/plain": [
              "[<matplotlib.lines.Line2D at 0x7f7ca30b61d0>]"
            ]
          },
          "metadata": {
            "tags": []
          },
          "execution_count": 271
        },
        {
          "output_type": "display_data",
          "data": {
            "image/png": "[encoded data removed]",
            "text/plain": [
              "<Figure size 432x288 with 1 Axes>"
            ]
          },
          "metadata": {
            "tags": [],
            "needs_background": "light"
          }
        }
      ]
    },
    {
      "cell_type": "markdown",
      "metadata": {
        "id": "bGv2QXLTZeQY"
      },
      "source": [
        "#**Causas de deserción escolar a causa de la pandemia**\n",
        "\n",
        "> Bloque con sangría\n",
        "\n",
        "\n"
      ]
    },
    {
      "cell_type": "markdown",
      "metadata": {
        "id": "RCToWf5b3yn8"
      },
      "source": [
        "#Análisis Exploratorio"
      ]
    },
    {
      "cell_type": "code",
      "metadata": {
        "colab": {
          "base_uri": "https://localhost:8080/",
          "height": 408
        },
        "id": "jvwbEG93iyeE",
        "outputId": "3841be8e-b65c-460e-b887-ef8db3e88d88"
      },
      "source": [
        "#Leemos el dataset en un dataframe de pandas\n",
        "df=pd.read_csv('https://raw.githubusercontent.com/OscarCanongo/Santander-DataScience-Python/main/datasets/hogar_anual_2019.csv')\n",
        "\n",
        "#vista previa del dataset\n",
        "df.head(10)"
      ],
      "execution_count": null,
      "outputs": [
        {
          "output_type": "execute_result",
          "data": {
            "text/html": [
              "<div>\n",
              "<style scoped>\n",
              "    .dataframe tbody tr th:only-of-type {\n",
              "        vertical-align: middle;\n",
              "    }\n",
              "\n",
              "    .dataframe tbody tr th {\n",
              "        vertical-align: top;\n",
              "    }\n",
              "\n",
              "    .dataframe thead th {\n",
              "        text-align: right;\n",
              "    }\n",
              "</style>\n",
              "<table border=\"1\" class=\"dataframe\">\n",
              "  <thead>\n",
              "    <tr style=\"text-align: right;\">\n",
              "      <th></th>\n",
              "      <th>UPM</th>\n",
              "      <th>VIV_SEL</th>\n",
              "      <th>HOGAR</th>\n",
              "      <th>P4_1_1</th>\n",
              "      <th>P4_1_2</th>\n",
              "      <th>P4_1_3</th>\n",
              "      <th>P4_1_4</th>\n",
              "      <th>P4_1_5</th>\n",
              "      <th>P4_1_6</th>\n",
              "      <th>P4_2_1</th>\n",
              "      <th>P4_2_2</th>\n",
              "      <th>P4_2_3</th>\n",
              "      <th>P4_3</th>\n",
              "      <th>P4_3A</th>\n",
              "      <th>P4_4</th>\n",
              "      <th>P4_5</th>\n",
              "      <th>P4_6_1</th>\n",
              "      <th>P4_6_2</th>\n",
              "      <th>P4_6_3</th>\n",
              "      <th>P4_6_4</th>\n",
              "      <th>P4_6_5</th>\n",
              "      <th>P4_6_6</th>\n",
              "      <th>P4_6A</th>\n",
              "      <th>P4_7_1</th>\n",
              "      <th>P4_7_2</th>\n",
              "      <th>P4_7_3</th>\n",
              "      <th>P4_7_4</th>\n",
              "      <th>P4_7A</th>\n",
              "      <th>P4_8</th>\n",
              "      <th>P4_8A</th>\n",
              "      <th>P5_1</th>\n",
              "      <th>P5_2_1</th>\n",
              "      <th>P5_2_2</th>\n",
              "      <th>P5_3_1</th>\n",
              "      <th>P5_3_2</th>\n",
              "      <th>P5_4</th>\n",
              "      <th>P5_4A</th>\n",
              "      <th>P5_5</th>\n",
              "      <th>P5_6_1</th>\n",
              "      <th>P5_6_2</th>\n",
              "      <th>...</th>\n",
              "      <th>P5_6_4</th>\n",
              "      <th>P5_6_5</th>\n",
              "      <th>P5_7_1</th>\n",
              "      <th>P5_8_1</th>\n",
              "      <th>P5_9_1</th>\n",
              "      <th>P5_10_1</th>\n",
              "      <th>P5_7_2</th>\n",
              "      <th>P5_8_2</th>\n",
              "      <th>P5_9_2</th>\n",
              "      <th>P5_10_2</th>\n",
              "      <th>P5_7_3</th>\n",
              "      <th>P5_8_3</th>\n",
              "      <th>P5_9_3</th>\n",
              "      <th>P5_10_3</th>\n",
              "      <th>P5_7_4</th>\n",
              "      <th>P5_8_4</th>\n",
              "      <th>P5_9_4</th>\n",
              "      <th>P5_10_4</th>\n",
              "      <th>P5_7_5</th>\n",
              "      <th>P5_8_5</th>\n",
              "      <th>P5_9_5</th>\n",
              "      <th>P5_10_5</th>\n",
              "      <th>P5_7_6</th>\n",
              "      <th>P5_8_6</th>\n",
              "      <th>P5_9_6</th>\n",
              "      <th>P5_7_7</th>\n",
              "      <th>P5_8_7</th>\n",
              "      <th>P5_9_7</th>\n",
              "      <th>P5_7_8</th>\n",
              "      <th>P5_8_8</th>\n",
              "      <th>P5_9_8</th>\n",
              "      <th>P5_11_1</th>\n",
              "      <th>P5_11_2</th>\n",
              "      <th>P5_11_3</th>\n",
              "      <th>FAC_HOG</th>\n",
              "      <th>UPM_DIS</th>\n",
              "      <th>EST_DIS</th>\n",
              "      <th>DOMINIO</th>\n",
              "      <th>TLOC</th>\n",
              "      <th>ESTRATO</th>\n",
              "    </tr>\n",
              "  </thead>\n",
              "  <tbody>\n",
              "    <tr>\n",
              "      <th>0</th>\n",
              "      <td>202427</td>\n",
              "      <td>1</td>\n",
              "      <td>1</td>\n",
              "      <td>2</td>\n",
              "      <td>2</td>\n",
              "      <td>2</td>\n",
              "      <td>1</td>\n",
              "      <td>1</td>\n",
              "      <td>2</td>\n",
              "      <td>2</td>\n",
              "      <td>2</td>\n",
              "      <td>2</td>\n",
              "      <td>2.0</td>\n",
              "      <td>NaN</td>\n",
              "      <td>1</td>\n",
              "      <td>1.0</td>\n",
              "      <td>1.0</td>\n",
              "      <td>2.0</td>\n",
              "      <td>2.0</td>\n",
              "      <td>2.0</td>\n",
              "      <td>2.0</td>\n",
              "      <td>2.0</td>\n",
              "      <td>NaN</td>\n",
              "      <td>NaN</td>\n",
              "      <td>NaN</td>\n",
              "      <td>NaN</td>\n",
              "      <td>NaN</td>\n",
              "      <td>NaN</td>\n",
              "      <td>NaN</td>\n",
              "      <td>NaN</td>\n",
              "      <td>1</td>\n",
              "      <td>1.0</td>\n",
              "      <td>2.0</td>\n",
              "      <td>2.0</td>\n",
              "      <td>2.0</td>\n",
              "      <td>NaN</td>\n",
              "      <td>NaN</td>\n",
              "      <td>1</td>\n",
              "      <td>1</td>\n",
              "      <td>1</td>\n",
              "      <td>...</td>\n",
              "      <td>1</td>\n",
              "      <td>2</td>\n",
              "      <td>2.0</td>\n",
              "      <td>NaN</td>\n",
              "      <td>NaN</td>\n",
              "      <td>NaN</td>\n",
              "      <td>1.0</td>\n",
              "      <td>800.0</td>\n",
              "      <td>NaN</td>\n",
              "      <td>NaN</td>\n",
              "      <td>2.0</td>\n",
              "      <td>NaN</td>\n",
              "      <td>NaN</td>\n",
              "      <td>NaN</td>\n",
              "      <td>2.0</td>\n",
              "      <td>NaN</td>\n",
              "      <td>NaN</td>\n",
              "      <td>NaN</td>\n",
              "      <td>2.0</td>\n",
              "      <td>NaN</td>\n",
              "      <td>NaN</td>\n",
              "      <td>NaN</td>\n",
              "      <td>2.0</td>\n",
              "      <td>NaN</td>\n",
              "      <td>NaN</td>\n",
              "      <td>2.0</td>\n",
              "      <td>NaN</td>\n",
              "      <td>NaN</td>\n",
              "      <td>2.0</td>\n",
              "      <td>NaN</td>\n",
              "      <td>NaN</td>\n",
              "      <td>1.0</td>\n",
              "      <td>2.0</td>\n",
              "      <td>1.0</td>\n",
              "      <td>2073</td>\n",
              "      <td>104</td>\n",
              "      <td>14</td>\n",
              "      <td>U</td>\n",
              "      <td>1</td>\n",
              "      <td>4</td>\n",
              "    </tr>\n",
              "    <tr>\n",
              "      <th>1</th>\n",
              "      <td>202427</td>\n",
              "      <td>2</td>\n",
              "      <td>1</td>\n",
              "      <td>1</td>\n",
              "      <td>2</td>\n",
              "      <td>2</td>\n",
              "      <td>1</td>\n",
              "      <td>1</td>\n",
              "      <td>2</td>\n",
              "      <td>2</td>\n",
              "      <td>1</td>\n",
              "      <td>1</td>\n",
              "      <td>NaN</td>\n",
              "      <td>NaN</td>\n",
              "      <td>1</td>\n",
              "      <td>1.0</td>\n",
              "      <td>2.0</td>\n",
              "      <td>1.0</td>\n",
              "      <td>2.0</td>\n",
              "      <td>2.0</td>\n",
              "      <td>2.0</td>\n",
              "      <td>2.0</td>\n",
              "      <td>NaN</td>\n",
              "      <td>NaN</td>\n",
              "      <td>NaN</td>\n",
              "      <td>NaN</td>\n",
              "      <td>NaN</td>\n",
              "      <td>NaN</td>\n",
              "      <td>NaN</td>\n",
              "      <td>NaN</td>\n",
              "      <td>2</td>\n",
              "      <td>NaN</td>\n",
              "      <td>NaN</td>\n",
              "      <td>NaN</td>\n",
              "      <td>NaN</td>\n",
              "      <td>2.0</td>\n",
              "      <td>NaN</td>\n",
              "      <td>1</td>\n",
              "      <td>1</td>\n",
              "      <td>2</td>\n",
              "      <td>...</td>\n",
              "      <td>1</td>\n",
              "      <td>2</td>\n",
              "      <td>2.0</td>\n",
              "      <td>NaN</td>\n",
              "      <td>NaN</td>\n",
              "      <td>NaN</td>\n",
              "      <td>2.0</td>\n",
              "      <td>NaN</td>\n",
              "      <td>NaN</td>\n",
              "      <td>NaN</td>\n",
              "      <td>2.0</td>\n",
              "      <td>NaN</td>\n",
              "      <td>NaN</td>\n",
              "      <td>NaN</td>\n",
              "      <td>2.0</td>\n",
              "      <td>NaN</td>\n",
              "      <td>NaN</td>\n",
              "      <td>NaN</td>\n",
              "      <td>1.0</td>\n",
              "      <td>440.0</td>\n",
              "      <td>NaN</td>\n",
              "      <td>NaN</td>\n",
              "      <td>2.0</td>\n",
              "      <td>NaN</td>\n",
              "      <td>NaN</td>\n",
              "      <td>2.0</td>\n",
              "      <td>NaN</td>\n",
              "      <td>NaN</td>\n",
              "      <td>2.0</td>\n",
              "      <td>NaN</td>\n",
              "      <td>NaN</td>\n",
              "      <td>1.0</td>\n",
              "      <td>3.0</td>\n",
              "      <td>1.0</td>\n",
              "      <td>2073</td>\n",
              "      <td>104</td>\n",
              "      <td>14</td>\n",
              "      <td>U</td>\n",
              "      <td>1</td>\n",
              "      <td>4</td>\n",
              "    </tr>\n",
              "    <tr>\n",
              "      <th>2</th>\n",
              "      <td>202427</td>\n",
              "      <td>5</td>\n",
              "      <td>1</td>\n",
              "      <td>2</td>\n",
              "      <td>2</td>\n",
              "      <td>2</td>\n",
              "      <td>1</td>\n",
              "      <td>1</td>\n",
              "      <td>2</td>\n",
              "      <td>2</td>\n",
              "      <td>2</td>\n",
              "      <td>1</td>\n",
              "      <td>NaN</td>\n",
              "      <td>NaN</td>\n",
              "      <td>1</td>\n",
              "      <td>3.0</td>\n",
              "      <td>2.0</td>\n",
              "      <td>1.0</td>\n",
              "      <td>2.0</td>\n",
              "      <td>2.0</td>\n",
              "      <td>2.0</td>\n",
              "      <td>2.0</td>\n",
              "      <td>NaN</td>\n",
              "      <td>1.0</td>\n",
              "      <td>2.0</td>\n",
              "      <td>1.0</td>\n",
              "      <td>2.0</td>\n",
              "      <td>NaN</td>\n",
              "      <td>NaN</td>\n",
              "      <td>NaN</td>\n",
              "      <td>1</td>\n",
              "      <td>1.0</td>\n",
              "      <td>2.0</td>\n",
              "      <td>2.0</td>\n",
              "      <td>2.0</td>\n",
              "      <td>NaN</td>\n",
              "      <td>NaN</td>\n",
              "      <td>1</td>\n",
              "      <td>1</td>\n",
              "      <td>1</td>\n",
              "      <td>...</td>\n",
              "      <td>1</td>\n",
              "      <td>2</td>\n",
              "      <td>2.0</td>\n",
              "      <td>NaN</td>\n",
              "      <td>NaN</td>\n",
              "      <td>NaN</td>\n",
              "      <td>1.0</td>\n",
              "      <td>560.0</td>\n",
              "      <td>NaN</td>\n",
              "      <td>NaN</td>\n",
              "      <td>2.0</td>\n",
              "      <td>NaN</td>\n",
              "      <td>NaN</td>\n",
              "      <td>NaN</td>\n",
              "      <td>2.0</td>\n",
              "      <td>NaN</td>\n",
              "      <td>NaN</td>\n",
              "      <td>NaN</td>\n",
              "      <td>2.0</td>\n",
              "      <td>NaN</td>\n",
              "      <td>NaN</td>\n",
              "      <td>NaN</td>\n",
              "      <td>2.0</td>\n",
              "      <td>NaN</td>\n",
              "      <td>NaN</td>\n",
              "      <td>2.0</td>\n",
              "      <td>NaN</td>\n",
              "      <td>NaN</td>\n",
              "      <td>2.0</td>\n",
              "      <td>NaN</td>\n",
              "      <td>NaN</td>\n",
              "      <td>1.0</td>\n",
              "      <td>1.0</td>\n",
              "      <td>1.0</td>\n",
              "      <td>2073</td>\n",
              "      <td>104</td>\n",
              "      <td>14</td>\n",
              "      <td>U</td>\n",
              "      <td>1</td>\n",
              "      <td>4</td>\n",
              "    </tr>\n",
              "    <tr>\n",
              "      <th>3</th>\n",
              "      <td>202633</td>\n",
              "      <td>3</td>\n",
              "      <td>1</td>\n",
              "      <td>1</td>\n",
              "      <td>2</td>\n",
              "      <td>2</td>\n",
              "      <td>1</td>\n",
              "      <td>1</td>\n",
              "      <td>2</td>\n",
              "      <td>1</td>\n",
              "      <td>1</td>\n",
              "      <td>2</td>\n",
              "      <td>NaN</td>\n",
              "      <td>NaN</td>\n",
              "      <td>1</td>\n",
              "      <td>1.0</td>\n",
              "      <td>2.0</td>\n",
              "      <td>1.0</td>\n",
              "      <td>2.0</td>\n",
              "      <td>2.0</td>\n",
              "      <td>2.0</td>\n",
              "      <td>2.0</td>\n",
              "      <td>NaN</td>\n",
              "      <td>NaN</td>\n",
              "      <td>NaN</td>\n",
              "      <td>NaN</td>\n",
              "      <td>NaN</td>\n",
              "      <td>NaN</td>\n",
              "      <td>NaN</td>\n",
              "      <td>NaN</td>\n",
              "      <td>2</td>\n",
              "      <td>NaN</td>\n",
              "      <td>NaN</td>\n",
              "      <td>NaN</td>\n",
              "      <td>NaN</td>\n",
              "      <td>2.0</td>\n",
              "      <td>NaN</td>\n",
              "      <td>2</td>\n",
              "      <td>1</td>\n",
              "      <td>2</td>\n",
              "      <td>...</td>\n",
              "      <td>1</td>\n",
              "      <td>2</td>\n",
              "      <td>2.0</td>\n",
              "      <td>NaN</td>\n",
              "      <td>NaN</td>\n",
              "      <td>NaN</td>\n",
              "      <td>2.0</td>\n",
              "      <td>NaN</td>\n",
              "      <td>NaN</td>\n",
              "      <td>NaN</td>\n",
              "      <td>2.0</td>\n",
              "      <td>NaN</td>\n",
              "      <td>NaN</td>\n",
              "      <td>NaN</td>\n",
              "      <td>2.0</td>\n",
              "      <td>NaN</td>\n",
              "      <td>NaN</td>\n",
              "      <td>NaN</td>\n",
              "      <td>2.0</td>\n",
              "      <td>NaN</td>\n",
              "      <td>NaN</td>\n",
              "      <td>NaN</td>\n",
              "      <td>2.0</td>\n",
              "      <td>NaN</td>\n",
              "      <td>NaN</td>\n",
              "      <td>2.0</td>\n",
              "      <td>NaN</td>\n",
              "      <td>NaN</td>\n",
              "      <td>1.0</td>\n",
              "      <td>440.0</td>\n",
              "      <td>NaN</td>\n",
              "      <td>1.0</td>\n",
              "      <td>3.0</td>\n",
              "      <td>3.0</td>\n",
              "      <td>2767</td>\n",
              "      <td>105</td>\n",
              "      <td>12</td>\n",
              "      <td>U</td>\n",
              "      <td>1</td>\n",
              "      <td>2</td>\n",
              "    </tr>\n",
              "    <tr>\n",
              "      <th>4</th>\n",
              "      <td>202633</td>\n",
              "      <td>4</td>\n",
              "      <td>1</td>\n",
              "      <td>2</td>\n",
              "      <td>2</td>\n",
              "      <td>2</td>\n",
              "      <td>1</td>\n",
              "      <td>1</td>\n",
              "      <td>2</td>\n",
              "      <td>2</td>\n",
              "      <td>2</td>\n",
              "      <td>2</td>\n",
              "      <td>1.0</td>\n",
              "      <td>NaN</td>\n",
              "      <td>1</td>\n",
              "      <td>3.0</td>\n",
              "      <td>2.0</td>\n",
              "      <td>1.0</td>\n",
              "      <td>2.0</td>\n",
              "      <td>2.0</td>\n",
              "      <td>2.0</td>\n",
              "      <td>2.0</td>\n",
              "      <td>NaN</td>\n",
              "      <td>1.0</td>\n",
              "      <td>2.0</td>\n",
              "      <td>2.0</td>\n",
              "      <td>2.0</td>\n",
              "      <td>NaN</td>\n",
              "      <td>NaN</td>\n",
              "      <td>NaN</td>\n",
              "      <td>2</td>\n",
              "      <td>NaN</td>\n",
              "      <td>NaN</td>\n",
              "      <td>NaN</td>\n",
              "      <td>NaN</td>\n",
              "      <td>1.0</td>\n",
              "      <td>NaN</td>\n",
              "      <td>2</td>\n",
              "      <td>1</td>\n",
              "      <td>2</td>\n",
              "      <td>...</td>\n",
              "      <td>1</td>\n",
              "      <td>2</td>\n",
              "      <td>2.0</td>\n",
              "      <td>NaN</td>\n",
              "      <td>NaN</td>\n",
              "      <td>NaN</td>\n",
              "      <td>2.0</td>\n",
              "      <td>NaN</td>\n",
              "      <td>NaN</td>\n",
              "      <td>NaN</td>\n",
              "      <td>2.0</td>\n",
              "      <td>NaN</td>\n",
              "      <td>NaN</td>\n",
              "      <td>NaN</td>\n",
              "      <td>2.0</td>\n",
              "      <td>NaN</td>\n",
              "      <td>NaN</td>\n",
              "      <td>NaN</td>\n",
              "      <td>2.0</td>\n",
              "      <td>NaN</td>\n",
              "      <td>NaN</td>\n",
              "      <td>NaN</td>\n",
              "      <td>2.0</td>\n",
              "      <td>NaN</td>\n",
              "      <td>NaN</td>\n",
              "      <td>2.0</td>\n",
              "      <td>NaN</td>\n",
              "      <td>NaN</td>\n",
              "      <td>1.0</td>\n",
              "      <td>340.0</td>\n",
              "      <td>NaN</td>\n",
              "      <td>2.0</td>\n",
              "      <td>3.0</td>\n",
              "      <td>3.0</td>\n",
              "      <td>2767</td>\n",
              "      <td>105</td>\n",
              "      <td>12</td>\n",
              "      <td>U</td>\n",
              "      <td>1</td>\n",
              "      <td>2</td>\n",
              "    </tr>\n",
              "    <tr>\n",
              "      <th>5</th>\n",
              "      <td>202633</td>\n",
              "      <td>5</td>\n",
              "      <td>1</td>\n",
              "      <td>1</td>\n",
              "      <td>2</td>\n",
              "      <td>2</td>\n",
              "      <td>1</td>\n",
              "      <td>1</td>\n",
              "      <td>1</td>\n",
              "      <td>1</td>\n",
              "      <td>1</td>\n",
              "      <td>1</td>\n",
              "      <td>NaN</td>\n",
              "      <td>NaN</td>\n",
              "      <td>1</td>\n",
              "      <td>3.0</td>\n",
              "      <td>2.0</td>\n",
              "      <td>1.0</td>\n",
              "      <td>2.0</td>\n",
              "      <td>2.0</td>\n",
              "      <td>2.0</td>\n",
              "      <td>2.0</td>\n",
              "      <td>NaN</td>\n",
              "      <td>1.0</td>\n",
              "      <td>2.0</td>\n",
              "      <td>2.0</td>\n",
              "      <td>2.0</td>\n",
              "      <td>NaN</td>\n",
              "      <td>NaN</td>\n",
              "      <td>NaN</td>\n",
              "      <td>1</td>\n",
              "      <td>1.0</td>\n",
              "      <td>2.0</td>\n",
              "      <td>2.0</td>\n",
              "      <td>2.0</td>\n",
              "      <td>NaN</td>\n",
              "      <td>NaN</td>\n",
              "      <td>1</td>\n",
              "      <td>1</td>\n",
              "      <td>1</td>\n",
              "      <td>...</td>\n",
              "      <td>1</td>\n",
              "      <td>2</td>\n",
              "      <td>2.0</td>\n",
              "      <td>NaN</td>\n",
              "      <td>NaN</td>\n",
              "      <td>NaN</td>\n",
              "      <td>1.0</td>\n",
              "      <td>700.0</td>\n",
              "      <td>NaN</td>\n",
              "      <td>NaN</td>\n",
              "      <td>2.0</td>\n",
              "      <td>NaN</td>\n",
              "      <td>NaN</td>\n",
              "      <td>NaN</td>\n",
              "      <td>2.0</td>\n",
              "      <td>NaN</td>\n",
              "      <td>NaN</td>\n",
              "      <td>NaN</td>\n",
              "      <td>2.0</td>\n",
              "      <td>NaN</td>\n",
              "      <td>NaN</td>\n",
              "      <td>NaN</td>\n",
              "      <td>2.0</td>\n",
              "      <td>NaN</td>\n",
              "      <td>NaN</td>\n",
              "      <td>2.0</td>\n",
              "      <td>NaN</td>\n",
              "      <td>NaN</td>\n",
              "      <td>2.0</td>\n",
              "      <td>NaN</td>\n",
              "      <td>NaN</td>\n",
              "      <td>1.0</td>\n",
              "      <td>1.0</td>\n",
              "      <td>1.0</td>\n",
              "      <td>2767</td>\n",
              "      <td>105</td>\n",
              "      <td>12</td>\n",
              "      <td>U</td>\n",
              "      <td>1</td>\n",
              "      <td>2</td>\n",
              "    </tr>\n",
              "    <tr>\n",
              "      <th>6</th>\n",
              "      <td>202633</td>\n",
              "      <td>1</td>\n",
              "      <td>1</td>\n",
              "      <td>1</td>\n",
              "      <td>1</td>\n",
              "      <td>1</td>\n",
              "      <td>2</td>\n",
              "      <td>1</td>\n",
              "      <td>2</td>\n",
              "      <td>2</td>\n",
              "      <td>2</td>\n",
              "      <td>2</td>\n",
              "      <td>1.0</td>\n",
              "      <td>NaN</td>\n",
              "      <td>2</td>\n",
              "      <td>NaN</td>\n",
              "      <td>NaN</td>\n",
              "      <td>NaN</td>\n",
              "      <td>NaN</td>\n",
              "      <td>NaN</td>\n",
              "      <td>NaN</td>\n",
              "      <td>NaN</td>\n",
              "      <td>NaN</td>\n",
              "      <td>NaN</td>\n",
              "      <td>NaN</td>\n",
              "      <td>NaN</td>\n",
              "      <td>NaN</td>\n",
              "      <td>NaN</td>\n",
              "      <td>1.0</td>\n",
              "      <td>NaN</td>\n",
              "      <td>2</td>\n",
              "      <td>NaN</td>\n",
              "      <td>NaN</td>\n",
              "      <td>NaN</td>\n",
              "      <td>NaN</td>\n",
              "      <td>1.0</td>\n",
              "      <td>NaN</td>\n",
              "      <td>2</td>\n",
              "      <td>2</td>\n",
              "      <td>2</td>\n",
              "      <td>...</td>\n",
              "      <td>1</td>\n",
              "      <td>2</td>\n",
              "      <td>2.0</td>\n",
              "      <td>NaN</td>\n",
              "      <td>NaN</td>\n",
              "      <td>NaN</td>\n",
              "      <td>2.0</td>\n",
              "      <td>NaN</td>\n",
              "      <td>NaN</td>\n",
              "      <td>NaN</td>\n",
              "      <td>2.0</td>\n",
              "      <td>NaN</td>\n",
              "      <td>NaN</td>\n",
              "      <td>NaN</td>\n",
              "      <td>2.0</td>\n",
              "      <td>NaN</td>\n",
              "      <td>NaN</td>\n",
              "      <td>NaN</td>\n",
              "      <td>2.0</td>\n",
              "      <td>NaN</td>\n",
              "      <td>NaN</td>\n",
              "      <td>NaN</td>\n",
              "      <td>2.0</td>\n",
              "      <td>NaN</td>\n",
              "      <td>NaN</td>\n",
              "      <td>2.0</td>\n",
              "      <td>NaN</td>\n",
              "      <td>NaN</td>\n",
              "      <td>2.0</td>\n",
              "      <td>NaN</td>\n",
              "      <td>NaN</td>\n",
              "      <td>3.0</td>\n",
              "      <td>3.0</td>\n",
              "      <td>3.0</td>\n",
              "      <td>2767</td>\n",
              "      <td>105</td>\n",
              "      <td>12</td>\n",
              "      <td>U</td>\n",
              "      <td>1</td>\n",
              "      <td>2</td>\n",
              "    </tr>\n",
              "    <tr>\n",
              "      <th>7</th>\n",
              "      <td>202633</td>\n",
              "      <td>2</td>\n",
              "      <td>1</td>\n",
              "      <td>2</td>\n",
              "      <td>2</td>\n",
              "      <td>2</td>\n",
              "      <td>1</td>\n",
              "      <td>1</td>\n",
              "      <td>2</td>\n",
              "      <td>2</td>\n",
              "      <td>2</td>\n",
              "      <td>2</td>\n",
              "      <td>1.0</td>\n",
              "      <td>NaN</td>\n",
              "      <td>2</td>\n",
              "      <td>NaN</td>\n",
              "      <td>NaN</td>\n",
              "      <td>NaN</td>\n",
              "      <td>NaN</td>\n",
              "      <td>NaN</td>\n",
              "      <td>NaN</td>\n",
              "      <td>NaN</td>\n",
              "      <td>NaN</td>\n",
              "      <td>NaN</td>\n",
              "      <td>NaN</td>\n",
              "      <td>NaN</td>\n",
              "      <td>NaN</td>\n",
              "      <td>NaN</td>\n",
              "      <td>1.0</td>\n",
              "      <td>NaN</td>\n",
              "      <td>2</td>\n",
              "      <td>NaN</td>\n",
              "      <td>NaN</td>\n",
              "      <td>NaN</td>\n",
              "      <td>NaN</td>\n",
              "      <td>1.0</td>\n",
              "      <td>NaN</td>\n",
              "      <td>2</td>\n",
              "      <td>2</td>\n",
              "      <td>2</td>\n",
              "      <td>...</td>\n",
              "      <td>1</td>\n",
              "      <td>2</td>\n",
              "      <td>2.0</td>\n",
              "      <td>NaN</td>\n",
              "      <td>NaN</td>\n",
              "      <td>NaN</td>\n",
              "      <td>2.0</td>\n",
              "      <td>NaN</td>\n",
              "      <td>NaN</td>\n",
              "      <td>NaN</td>\n",
              "      <td>2.0</td>\n",
              "      <td>NaN</td>\n",
              "      <td>NaN</td>\n",
              "      <td>NaN</td>\n",
              "      <td>2.0</td>\n",
              "      <td>NaN</td>\n",
              "      <td>NaN</td>\n",
              "      <td>NaN</td>\n",
              "      <td>2.0</td>\n",
              "      <td>NaN</td>\n",
              "      <td>NaN</td>\n",
              "      <td>NaN</td>\n",
              "      <td>2.0</td>\n",
              "      <td>NaN</td>\n",
              "      <td>NaN</td>\n",
              "      <td>2.0</td>\n",
              "      <td>NaN</td>\n",
              "      <td>NaN</td>\n",
              "      <td>2.0</td>\n",
              "      <td>NaN</td>\n",
              "      <td>NaN</td>\n",
              "      <td>3.0</td>\n",
              "      <td>3.0</td>\n",
              "      <td>3.0</td>\n",
              "      <td>2767</td>\n",
              "      <td>105</td>\n",
              "      <td>12</td>\n",
              "      <td>U</td>\n",
              "      <td>1</td>\n",
              "      <td>2</td>\n",
              "    </tr>\n",
              "    <tr>\n",
              "      <th>8</th>\n",
              "      <td>202817</td>\n",
              "      <td>1</td>\n",
              "      <td>1</td>\n",
              "      <td>2</td>\n",
              "      <td>1</td>\n",
              "      <td>2</td>\n",
              "      <td>1</td>\n",
              "      <td>1</td>\n",
              "      <td>1</td>\n",
              "      <td>1</td>\n",
              "      <td>2</td>\n",
              "      <td>1</td>\n",
              "      <td>NaN</td>\n",
              "      <td>NaN</td>\n",
              "      <td>1</td>\n",
              "      <td>3.0</td>\n",
              "      <td>1.0</td>\n",
              "      <td>2.0</td>\n",
              "      <td>2.0</td>\n",
              "      <td>2.0</td>\n",
              "      <td>2.0</td>\n",
              "      <td>2.0</td>\n",
              "      <td>NaN</td>\n",
              "      <td>1.0</td>\n",
              "      <td>2.0</td>\n",
              "      <td>2.0</td>\n",
              "      <td>2.0</td>\n",
              "      <td>NaN</td>\n",
              "      <td>NaN</td>\n",
              "      <td>NaN</td>\n",
              "      <td>2</td>\n",
              "      <td>NaN</td>\n",
              "      <td>NaN</td>\n",
              "      <td>NaN</td>\n",
              "      <td>NaN</td>\n",
              "      <td>2.0</td>\n",
              "      <td>NaN</td>\n",
              "      <td>2</td>\n",
              "      <td>1</td>\n",
              "      <td>2</td>\n",
              "      <td>...</td>\n",
              "      <td>1</td>\n",
              "      <td>2</td>\n",
              "      <td>2.0</td>\n",
              "      <td>NaN</td>\n",
              "      <td>NaN</td>\n",
              "      <td>NaN</td>\n",
              "      <td>2.0</td>\n",
              "      <td>NaN</td>\n",
              "      <td>NaN</td>\n",
              "      <td>NaN</td>\n",
              "      <td>2.0</td>\n",
              "      <td>NaN</td>\n",
              "      <td>NaN</td>\n",
              "      <td>NaN</td>\n",
              "      <td>2.0</td>\n",
              "      <td>NaN</td>\n",
              "      <td>NaN</td>\n",
              "      <td>NaN</td>\n",
              "      <td>2.0</td>\n",
              "      <td>NaN</td>\n",
              "      <td>NaN</td>\n",
              "      <td>NaN</td>\n",
              "      <td>2.0</td>\n",
              "      <td>NaN</td>\n",
              "      <td>NaN</td>\n",
              "      <td>2.0</td>\n",
              "      <td>NaN</td>\n",
              "      <td>NaN</td>\n",
              "      <td>1.0</td>\n",
              "      <td>700.0</td>\n",
              "      <td>NaN</td>\n",
              "      <td>1.0</td>\n",
              "      <td>3.0</td>\n",
              "      <td>3.0</td>\n",
              "      <td>2172</td>\n",
              "      <td>106</td>\n",
              "      <td>14</td>\n",
              "      <td>U</td>\n",
              "      <td>1</td>\n",
              "      <td>4</td>\n",
              "    </tr>\n",
              "    <tr>\n",
              "      <th>9</th>\n",
              "      <td>202817</td>\n",
              "      <td>2</td>\n",
              "      <td>1</td>\n",
              "      <td>1</td>\n",
              "      <td>2</td>\n",
              "      <td>2</td>\n",
              "      <td>1</td>\n",
              "      <td>1</td>\n",
              "      <td>2</td>\n",
              "      <td>2</td>\n",
              "      <td>1</td>\n",
              "      <td>2</td>\n",
              "      <td>NaN</td>\n",
              "      <td>NaN</td>\n",
              "      <td>1</td>\n",
              "      <td>3.0</td>\n",
              "      <td>2.0</td>\n",
              "      <td>1.0</td>\n",
              "      <td>2.0</td>\n",
              "      <td>2.0</td>\n",
              "      <td>2.0</td>\n",
              "      <td>2.0</td>\n",
              "      <td>NaN</td>\n",
              "      <td>1.0</td>\n",
              "      <td>2.0</td>\n",
              "      <td>2.0</td>\n",
              "      <td>2.0</td>\n",
              "      <td>NaN</td>\n",
              "      <td>NaN</td>\n",
              "      <td>NaN</td>\n",
              "      <td>1</td>\n",
              "      <td>1.0</td>\n",
              "      <td>2.0</td>\n",
              "      <td>2.0</td>\n",
              "      <td>2.0</td>\n",
              "      <td>NaN</td>\n",
              "      <td>NaN</td>\n",
              "      <td>1</td>\n",
              "      <td>1</td>\n",
              "      <td>1</td>\n",
              "      <td>...</td>\n",
              "      <td>1</td>\n",
              "      <td>2</td>\n",
              "      <td>2.0</td>\n",
              "      <td>NaN</td>\n",
              "      <td>NaN</td>\n",
              "      <td>NaN</td>\n",
              "      <td>1.0</td>\n",
              "      <td>9999.0</td>\n",
              "      <td>NaN</td>\n",
              "      <td>NaN</td>\n",
              "      <td>2.0</td>\n",
              "      <td>NaN</td>\n",
              "      <td>NaN</td>\n",
              "      <td>NaN</td>\n",
              "      <td>2.0</td>\n",
              "      <td>NaN</td>\n",
              "      <td>NaN</td>\n",
              "      <td>NaN</td>\n",
              "      <td>2.0</td>\n",
              "      <td>NaN</td>\n",
              "      <td>NaN</td>\n",
              "      <td>NaN</td>\n",
              "      <td>2.0</td>\n",
              "      <td>NaN</td>\n",
              "      <td>NaN</td>\n",
              "      <td>2.0</td>\n",
              "      <td>NaN</td>\n",
              "      <td>NaN</td>\n",
              "      <td>2.0</td>\n",
              "      <td>NaN</td>\n",
              "      <td>NaN</td>\n",
              "      <td>1.0</td>\n",
              "      <td>1.0</td>\n",
              "      <td>1.0</td>\n",
              "      <td>2172</td>\n",
              "      <td>106</td>\n",
              "      <td>14</td>\n",
              "      <td>U</td>\n",
              "      <td>1</td>\n",
              "      <td>4</td>\n",
              "    </tr>\n",
              "  </tbody>\n",
              "</table>\n",
              "<p>10 rows × 81 columns</p>\n",
              "</div>"
            ],
            "text/plain": [
              "      UPM  VIV_SEL  HOGAR  P4_1_1  ...  EST_DIS  DOMINIO  TLOC  ESTRATO\n",
              "0  202427        1      1       2  ...       14        U     1        4\n",
              "1  202427        2      1       1  ...       14        U     1        4\n",
              "2  202427        5      1       2  ...       14        U     1        4\n",
              "3  202633        3      1       1  ...       12        U     1        2\n",
              "4  202633        4      1       2  ...       12        U     1        2\n",
              "5  202633        5      1       1  ...       12        U     1        2\n",
              "6  202633        1      1       1  ...       12        U     1        2\n",
              "7  202633        2      1       2  ...       12        U     1        2\n",
              "8  202817        1      1       2  ...       14        U     1        4\n",
              "9  202817        2      1       1  ...       14        U     1        4\n",
              "\n",
              "[10 rows x 81 columns]"
            ]
          },
          "metadata": {
            "tags": []
          },
          "execution_count": 4
        }
      ]
    },
    {
      "cell_type": "code",
      "metadata": {
        "colab": {
          "base_uri": "https://localhost:8080/"
        },
        "id": "Ge3ftcIqjDgn",
        "outputId": "a4b0dd3d-d6e7-4cfe-e7c3-c1ce9d6fdcf1"
      },
      "source": [
        "#Revisamos el tipo de  datos de las columnas del dataframe\n",
        "print(df.dtypes)"
      ],
      "execution_count": null,
      "outputs": [
        {
          "output_type": "stream",
          "text": [
            "UPM         int64\n",
            "VIV_SEL     int64\n",
            "HOGAR       int64\n",
            "P4_1_1      int64\n",
            "P4_1_2      int64\n",
            "            ...  \n",
            "UPM_DIS     int64\n",
            "EST_DIS     int64\n",
            "DOMINIO    object\n",
            "TLOC        int64\n",
            "ESTRATO     int64\n",
            "Length: 81, dtype: object\n"
          ],
          "name": "stdout"
        }
      ]
    },
    {
      "cell_type": "markdown",
      "metadata": {
        "id": "n72wqF3C4k5j"
      },
      "source": [
        "# Limpieza de datos"
      ]
    },
    {
      "cell_type": "code",
      "metadata": {
        "id": "pgtAmwy04pDx"
      },
      "source": [
        "\n",
        "#Como este dataset contiene muchas columnas con informacion, solamente tomaremos aquellas que se utilizarán \n",
        "#y las guardaremos en otro dataframe\n",
        "df_hogar=df[['P4_1_2','P4_1_3','P4_1_4','P4_1_5','P4_2_1','P4_2_2',\n",
        "       'P4_4','ESTRATO','DOMINIO']]\n",
        "\n",
        "\n",
        "#Renombramos las columnas del dataframe\n",
        "renombrado={'P4_1_2':'Televisor_analogico','P4_1_3':'Televisor_con_decodificador','P4_1_4':'Televisor_digital','P4_1_5':'Telefono_celular','P4_2_1':'Computadora_escritorio','P4_2_2':'Laptop',\n",
        "       'P4_4':'Internet','ESTRATO':'Estrato_socioeconomico','DOMINIO':'Tipo_de_entorno'}\n",
        "df_hogar=df_hogar.rename(columns=renombrado)"
      ],
      "execution_count": null,
      "outputs": []
    },
    {
      "cell_type": "markdown",
      "metadata": {
        "id": "rMP8zYh_5B4y"
      },
      "source": [
        "#Transformación de Datos"
      ]
    },
    {
      "cell_type": "code",
      "metadata": {
        "id": "3fRAEujh2T9w",
        "colab": {
          "base_uri": "https://localhost:8080/"
        },
        "outputId": "0309c82b-6864-44b0-ca43-66900e31ed89"
      },
      "source": [
        "\n",
        "#Realizamos un mapeo de los datos algunas columnas para que sea mucho mas facil de leer\n",
        "#1-Si\n",
        "#2-No\n",
        "trans_respuestas = {\n",
        "    1: 'Si',\n",
        "    2: 'No',\n",
        "}\n",
        "\n",
        "#columnas a las cuales se mapearan su valores\n",
        "columnas={'Televisor_analogico','Televisor_con_decodificador','Televisor_digital','Telefono_celular','Computadora_escritorio','Laptop',\n",
        "       'Internet'}\n",
        "\n",
        "for col in columnas:\n",
        "    df_hogar[col]=df_hogar[col].map(trans_respuestas)\n",
        "\n",
        "\n",
        "#Realizamos un mapeo de los datos de  la columna Tipo_de_entorno\n",
        "trans_tipo_ent = {\n",
        "    'U': 'Urbano',\n",
        "    'R': 'Rural',\n",
        "}\n",
        "\n",
        "df_hogar['Tipo_de_entorno']=df_hogar['Tipo_de_entorno'].map(trans_tipo_ent)\n",
        "\n",
        "\n",
        "#Realizamos un mapeo de los datos de  la columna Estrato_socieconomico\n",
        "trans_tipo_estrato_soc = {\n",
        "   1:'Bajo',\n",
        "   2:'Medio bajo', \n",
        "   3: 'Medio alto',\n",
        "   4: 'Alto'\n",
        "}\n",
        "\n",
        "df_hogar['Estrato_socioeconomico']=df_hogar['Estrato_socioeconomico'].map(trans_tipo_estrato_soc)\n",
        "\n",
        "#Revisamos el tipo final de los datos de las columnas\n",
        "print(df_hogar.dtypes)"
      ],
      "execution_count": null,
      "outputs": [
        {
          "output_type": "stream",
          "text": [
            "Televisor_analogico            object\n",
            "Televisor_con_decodificador    object\n",
            "Televisor_digital              object\n",
            "Telefono_celular               object\n",
            "Computadora_escritorio         object\n",
            "Laptop                         object\n",
            "Internet                       object\n",
            "Estrato_socioeconomico         object\n",
            "Tipo_de_entorno                object\n",
            "dtype: object\n"
          ],
          "name": "stdout"
        }
      ]
    },
    {
      "cell_type": "code",
      "metadata": {
        "colab": {
          "base_uri": "https://localhost:8080/",
          "height": 379
        },
        "id": "arXp5vgWf_tr",
        "outputId": "0b729e06-a0e1-49d5-96cc-a718e7d3da9d"
      },
      "source": [
        "#Vista final del dataframe ya limpiado y transformado\n",
        "df_hogar.head(10)"
      ],
      "execution_count": null,
      "outputs": [
        {
          "output_type": "execute_result",
          "data": {
            "text/html": [
              "<div>\n",
              "<style scoped>\n",
              "    .dataframe tbody tr th:only-of-type {\n",
              "        vertical-align: middle;\n",
              "    }\n",
              "\n",
              "    .dataframe tbody tr th {\n",
              "        vertical-align: top;\n",
              "    }\n",
              "\n",
              "    .dataframe thead th {\n",
              "        text-align: right;\n",
              "    }\n",
              "</style>\n",
              "<table border=\"1\" class=\"dataframe\">\n",
              "  <thead>\n",
              "    <tr style=\"text-align: right;\">\n",
              "      <th></th>\n",
              "      <th>Televisor_analogico</th>\n",
              "      <th>Televisor_con_decodificador</th>\n",
              "      <th>Televisor_digital</th>\n",
              "      <th>Telefono_celular</th>\n",
              "      <th>Computadora_escritorio</th>\n",
              "      <th>Laptop</th>\n",
              "      <th>Internet</th>\n",
              "      <th>Estrato_socioeconomico</th>\n",
              "      <th>Tipo_de_entorno</th>\n",
              "    </tr>\n",
              "  </thead>\n",
              "  <tbody>\n",
              "    <tr>\n",
              "      <th>0</th>\n",
              "      <td>No</td>\n",
              "      <td>No</td>\n",
              "      <td>Si</td>\n",
              "      <td>Si</td>\n",
              "      <td>No</td>\n",
              "      <td>No</td>\n",
              "      <td>Si</td>\n",
              "      <td>Alto</td>\n",
              "      <td>Urbano</td>\n",
              "    </tr>\n",
              "    <tr>\n",
              "      <th>1</th>\n",
              "      <td>No</td>\n",
              "      <td>No</td>\n",
              "      <td>Si</td>\n",
              "      <td>Si</td>\n",
              "      <td>No</td>\n",
              "      <td>Si</td>\n",
              "      <td>Si</td>\n",
              "      <td>Alto</td>\n",
              "      <td>Urbano</td>\n",
              "    </tr>\n",
              "    <tr>\n",
              "      <th>2</th>\n",
              "      <td>No</td>\n",
              "      <td>No</td>\n",
              "      <td>Si</td>\n",
              "      <td>Si</td>\n",
              "      <td>No</td>\n",
              "      <td>No</td>\n",
              "      <td>Si</td>\n",
              "      <td>Alto</td>\n",
              "      <td>Urbano</td>\n",
              "    </tr>\n",
              "    <tr>\n",
              "      <th>3</th>\n",
              "      <td>No</td>\n",
              "      <td>No</td>\n",
              "      <td>Si</td>\n",
              "      <td>Si</td>\n",
              "      <td>Si</td>\n",
              "      <td>Si</td>\n",
              "      <td>Si</td>\n",
              "      <td>Medio bajo</td>\n",
              "      <td>Urbano</td>\n",
              "    </tr>\n",
              "    <tr>\n",
              "      <th>4</th>\n",
              "      <td>No</td>\n",
              "      <td>No</td>\n",
              "      <td>Si</td>\n",
              "      <td>Si</td>\n",
              "      <td>No</td>\n",
              "      <td>No</td>\n",
              "      <td>Si</td>\n",
              "      <td>Medio bajo</td>\n",
              "      <td>Urbano</td>\n",
              "    </tr>\n",
              "    <tr>\n",
              "      <th>5</th>\n",
              "      <td>No</td>\n",
              "      <td>No</td>\n",
              "      <td>Si</td>\n",
              "      <td>Si</td>\n",
              "      <td>Si</td>\n",
              "      <td>Si</td>\n",
              "      <td>Si</td>\n",
              "      <td>Medio bajo</td>\n",
              "      <td>Urbano</td>\n",
              "    </tr>\n",
              "    <tr>\n",
              "      <th>6</th>\n",
              "      <td>Si</td>\n",
              "      <td>Si</td>\n",
              "      <td>No</td>\n",
              "      <td>Si</td>\n",
              "      <td>No</td>\n",
              "      <td>No</td>\n",
              "      <td>No</td>\n",
              "      <td>Medio bajo</td>\n",
              "      <td>Urbano</td>\n",
              "    </tr>\n",
              "    <tr>\n",
              "      <th>7</th>\n",
              "      <td>No</td>\n",
              "      <td>No</td>\n",
              "      <td>Si</td>\n",
              "      <td>Si</td>\n",
              "      <td>No</td>\n",
              "      <td>No</td>\n",
              "      <td>No</td>\n",
              "      <td>Medio bajo</td>\n",
              "      <td>Urbano</td>\n",
              "    </tr>\n",
              "    <tr>\n",
              "      <th>8</th>\n",
              "      <td>Si</td>\n",
              "      <td>No</td>\n",
              "      <td>Si</td>\n",
              "      <td>Si</td>\n",
              "      <td>Si</td>\n",
              "      <td>No</td>\n",
              "      <td>Si</td>\n",
              "      <td>Alto</td>\n",
              "      <td>Urbano</td>\n",
              "    </tr>\n",
              "    <tr>\n",
              "      <th>9</th>\n",
              "      <td>No</td>\n",
              "      <td>No</td>\n",
              "      <td>Si</td>\n",
              "      <td>Si</td>\n",
              "      <td>No</td>\n",
              "      <td>Si</td>\n",
              "      <td>Si</td>\n",
              "      <td>Alto</td>\n",
              "      <td>Urbano</td>\n",
              "    </tr>\n",
              "  </tbody>\n",
              "</table>\n",
              "</div>"
            ],
            "text/plain": [
              "  Televisor_analogico  ... Tipo_de_entorno\n",
              "0                  No  ...          Urbano\n",
              "1                  No  ...          Urbano\n",
              "2                  No  ...          Urbano\n",
              "3                  No  ...          Urbano\n",
              "4                  No  ...          Urbano\n",
              "5                  No  ...          Urbano\n",
              "6                  Si  ...          Urbano\n",
              "7                  No  ...          Urbano\n",
              "8                  Si  ...          Urbano\n",
              "9                  No  ...          Urbano\n",
              "\n",
              "[10 rows x 9 columns]"
            ]
          },
          "metadata": {
            "tags": []
          },
          "execution_count": 9
        }
      ]
    },
    {
      "cell_type": "markdown",
      "metadata": {
        "id": "orl-0vnN5rmd"
      },
      "source": [
        "#Resultados"
      ]
    },
    {
      "cell_type": "code",
      "metadata": {
        "id": "NmqcTyXbjeWH"
      },
      "source": [
        "#Leeemos el dataset ya preprocesado\n",
        "df=pd.read_csv('https://raw.githubusercontent.com/OscarCanongo/Santander-DataScience-Python/main/datasets/hogar_anual_2019_preprocesado.csv')\n",
        "\n",
        "#Obtenemos informacion de acuerdo a la cantidad de familias que pertenecen a cierto estrato de socieconomico\n",
        "c=df.groupby(['Estrato_socioeconomico']).size()\n",
        "c.to_frame()\n",
        "#df[].plot.bar()\n",
        "\n"
      ],
      "execution_count": null,
      "outputs": []
    },
    {
      "cell_type": "code",
      "metadata": {
        "id": "x8wal4RvY7VO",
        "colab": {
          "base_uri": "https://localhost:8080/",
          "height": 342
        },
        "outputId": "a67a5226-9c85-4a32-f3a2-b6f8c82ec5a7"
      },
      "source": [
        "#Observamos un poco mas a detalle la cantidad de familias pertenecientes a entornos y niveles socioeconomico\n",
        "ent=df.groupby('Estrato_socioeconomico')['Tipo_de_entorno'].value_counts()\n",
        "\n",
        "graf=ent.groupby(['Estrato_socioeconomico', \"Tipo_de_entorno\"]).mean().unstack()\n",
        "graf.plot(kind='bar', stacked=True)\n"
      ],
      "execution_count": null,
      "outputs": [
        {
          "output_type": "execute_result",
          "data": {
            "text/plain": [
              "<matplotlib.axes._subplots.AxesSubplot at 0x7f2ed4630090>"
            ]
          },
          "metadata": {
            "tags": []
          },
          "execution_count": 25
        },
        {
          "output_type": "display_data",
          "data": {
            "image/png": "[encoded data removed]",
            "text/plain": [
              "<Figure size 432x288 with 1 Axes>"
            ]
          },
          "metadata": {
            "tags": [],
            "needs_background": "light"
          }
        }
      ]
    },
    {
      "cell_type": "code",
      "metadata": {
        "id": "7n0gCBBtT_9d"
      },
      "source": [
        "#Número de encuestados con acceso a un tipo de televisión\r\n",
        "tg=df.groupby(['Estrato_socioeconomico','Televisor_analogico','Televisor_con_decodificador','Televisor_digital',]).size()\r\n",
        "d = {'Estrato_socioeconomico':[\"Alto\",\"Bajo\",\"Medio alto\",\"Medio bajo\"],\r\n",
        "     'No': [123/sum(c)*100, 964/sum(c)*100, 137/sum(c)*100, 545/sum(c)*100],\r\n",
        "      'Si': [(3265-123)/sum(c)*100,(6466-964)/sum(c)*100,(3821-137)/sum(c)*100,(8068-545)/sum(c)*100]}\r\n",
        "Datos_tv=pd.DataFrame(d)"
      ],
      "execution_count": null,
      "outputs": []
    },
    {
      "cell_type": "code",
      "metadata": {
        "colab": {
          "base_uri": "https://localhost:8080/",
          "height": 166
        },
        "id": "mPuHH1A-ed4B",
        "outputId": "085f3997-79d2-40a1-bc15-437cb76891b4"
      },
      "source": [
        "Datos_tv"
      ],
      "execution_count": null,
      "outputs": [
        {
          "output_type": "execute_result",
          "data": {
            "text/html": [
              "<div>\n",
              "<style scoped>\n",
              "    .dataframe tbody tr th:only-of-type {\n",
              "        vertical-align: middle;\n",
              "    }\n",
              "\n",
              "    .dataframe tbody tr th {\n",
              "        vertical-align: top;\n",
              "    }\n",
              "\n",
              "    .dataframe thead th {\n",
              "        text-align: right;\n",
              "    }\n",
              "</style>\n",
              "<table border=\"1\" class=\"dataframe\">\n",
              "  <thead>\n",
              "    <tr style=\"text-align: right;\">\n",
              "      <th></th>\n",
              "      <th>Estrato_socioeconomico</th>\n",
              "      <th>No</th>\n",
              "      <th>Si</th>\n",
              "    </tr>\n",
              "  </thead>\n",
              "  <tbody>\n",
              "    <tr>\n",
              "      <th>0</th>\n",
              "      <td>Alto</td>\n",
              "      <td>0.568918</td>\n",
              "      <td>14.532840</td>\n",
              "    </tr>\n",
              "    <tr>\n",
              "      <th>1</th>\n",
              "      <td>Bajo</td>\n",
              "      <td>4.458834</td>\n",
              "      <td>25.448659</td>\n",
              "    </tr>\n",
              "    <tr>\n",
              "      <th>2</th>\n",
              "      <td>Medio alto</td>\n",
              "      <td>0.633673</td>\n",
              "      <td>17.039778</td>\n",
              "    </tr>\n",
              "    <tr>\n",
              "      <th>3</th>\n",
              "      <td>Medio bajo</td>\n",
              "      <td>2.520814</td>\n",
              "      <td>34.796485</td>\n",
              "    </tr>\n",
              "  </tbody>\n",
              "</table>\n",
              "</div>"
            ],
            "text/plain": [
              "  Estrato_socioeconomico        No         Si\n",
              "0                   Alto  0.568918  14.532840\n",
              "1                   Bajo  4.458834  25.448659\n",
              "2             Medio alto  0.633673  17.039778\n",
              "3             Medio bajo  2.520814  34.796485"
            ]
          },
          "metadata": {
            "tags": []
          },
          "execution_count": 107
        }
      ]
    },
    {
      "cell_type": "code",
      "metadata": {
        "id": "y5UCTtiHjKBt"
      },
      "source": [
        "tc=df.groupby(['Estrato_socioeconomico','Computadora_escritorio','Laptop','Internet']).size()\r\n",
        "e = {'Estrato_socioeconomico':[\"Alto\",\"Bajo\",\"Medio alto\",\"Medio bajo\"],\r\n",
        "     'No': [339/sum(c)*100, 4531/sum(c)*100, 743/sum(c)*100, 3672/sum(c)*100],\r\n",
        "      'Si': [(3265-339)/sum(c)*100,(6466-4531)/sum(c)*100,(3821-743)/sum(c)*100,(8068-3672)/sum(c)*100]}\r\n",
        "Datos_pc=pd.DataFrame(e)"
      ],
      "execution_count": null,
      "outputs": []
    },
    {
      "cell_type": "code",
      "metadata": {
        "colab": {
          "base_uri": "https://localhost:8080/",
          "height": 166
        },
        "id": "qNI1TDG2w2cl",
        "outputId": "fd8995de-8404-4e24-ee68-9983584eb343"
      },
      "source": [
        "Datos_pc"
      ],
      "execution_count": null,
      "outputs": [
        {
          "output_type": "execute_result",
          "data": {
            "text/html": [
              "<div>\n",
              "<style scoped>\n",
              "    .dataframe tbody tr th:only-of-type {\n",
              "        vertical-align: middle;\n",
              "    }\n",
              "\n",
              "    .dataframe tbody tr th {\n",
              "        vertical-align: top;\n",
              "    }\n",
              "\n",
              "    .dataframe thead th {\n",
              "        text-align: right;\n",
              "    }\n",
              "</style>\n",
              "<table border=\"1\" class=\"dataframe\">\n",
              "  <thead>\n",
              "    <tr style=\"text-align: right;\">\n",
              "      <th></th>\n",
              "      <th>Estrato_socioeconomico</th>\n",
              "      <th>No</th>\n",
              "      <th>Si</th>\n",
              "    </tr>\n",
              "  </thead>\n",
              "  <tbody>\n",
              "    <tr>\n",
              "      <th>0</th>\n",
              "      <td>Alto</td>\n",
              "      <td>1.567993</td>\n",
              "      <td>13.533765</td>\n",
              "    </tr>\n",
              "    <tr>\n",
              "      <th>1</th>\n",
              "      <td>Bajo</td>\n",
              "      <td>20.957447</td>\n",
              "      <td>8.950046</td>\n",
              "    </tr>\n",
              "    <tr>\n",
              "      <th>2</th>\n",
              "      <td>Medio alto</td>\n",
              "      <td>3.436633</td>\n",
              "      <td>14.236818</td>\n",
              "    </tr>\n",
              "    <tr>\n",
              "      <th>3</th>\n",
              "      <td>Medio bajo</td>\n",
              "      <td>16.984274</td>\n",
              "      <td>20.333025</td>\n",
              "    </tr>\n",
              "  </tbody>\n",
              "</table>\n",
              "</div>"
            ],
            "text/plain": [
              "  Estrato_socioeconomico         No         Si\n",
              "0                   Alto   1.567993  13.533765\n",
              "1                   Bajo  20.957447   8.950046\n",
              "2             Medio alto   3.436633  14.236818\n",
              "3             Medio bajo  16.984274  20.333025"
            ]
          },
          "metadata": {
            "tags": []
          },
          "execution_count": 105
        }
      ]
    },
    {
      "cell_type": "code",
      "metadata": {
        "colab": {
          "base_uri": "https://localhost:8080/",
          "height": 312
        },
        "id": "TL5sPZZc47uE",
        "outputId": "3eaddcee-4ad6-460a-d3c6-e050d709ea4e"
      },
      "source": [
        "Datos_tv.plot.bar(x='Estrato_socioeconomico', y=['No','Si'], rot=0)\r\n",
        "plt.title(\"Acceso porcentual de los encuestados a un televisor\")\r\n",
        "plt.xlabel(\"Estrato socioeconomico\")\r\n",
        "plt.ylabel(\"Porcentaje\")"
      ],
      "execution_count": null,
      "outputs": [
        {
          "output_type": "execute_result",
          "data": {
            "text/plain": [
              "Text(0, 0.5, 'Porcentaje')"
            ]
          },
          "metadata": {
            "tags": []
          },
          "execution_count": 111
        },
        {
          "output_type": "display_data",
          "data": {
            "image/png": "[encoded data removed]",
            "text/plain": [
              "<Figure size 432x288 with 1 Axes>"
            ]
          },
          "metadata": {
            "tags": [],
            "needs_background": "light"
          }
        }
      ]
    },
    {
      "cell_type": "code",
      "metadata": {
        "colab": {
          "base_uri": "https://localhost:8080/",
          "height": 312
        },
        "id": "VUWF76584omA",
        "outputId": "5a8f953d-5dff-48ab-d9cb-c78cb17eba63"
      },
      "source": [
        "Datos_pc.plot.bar(x='Estrato_socioeconomico', y=['No','Si'], rot=0)\r\n",
        "plt.title(\"Acceso porcentual de los encuestados a una computadora con internet\")\r\n",
        "plt.xlabel(\"Estrato socioeconomico\")\r\n",
        "plt.ylabel(\"Porcentaje\")"
      ],
      "execution_count": null,
      "outputs": [
        {
          "output_type": "execute_result",
          "data": {
            "text/plain": [
              "Text(0, 0.5, 'Porcentaje')"
            ]
          },
          "metadata": {
            "tags": []
          },
          "execution_count": 112
        },
        {
          "output_type": "display_data",
          "data": {
            "image/png": "[encoded data removed]",
            "text/plain": [
              "<Figure size 432x288 with 1 Axes>"
            ]
          },
          "metadata": {
            "tags": [],
            "needs_background": "light"
          }
        }
      ]
    },
    {
      "cell_type": "markdown",
      "metadata": {
        "id": "OyxBPb2mOXH4"
      },
      "source": [
        "# **Conclusión**\r\n",
        "\r\n",
        "Actualmente México ocupa es el tercer país con más muertes por COVID-19 a nivel mundial. La situación es desalentadora, la mayoría de los contagios ocurren en personas de 50 a 60 años y la tasa de mortalidad va en aumento.\r\n",
        "\r\n",
        "En cuestión económica las cosas no mejoran. El Producto Interno Bruto (PIB) va en declive y la tasa de desempleo en aumento.\r\n",
        "\r\n",
        "Moviendonos al ambito escolar, lamentablemente las cosas siguen mal. La mayoría de las personas con una situación economica media-baja y baja (Alrededor del 50% de la población mexicana) no cuenta con una computadora con conexión a internet en su casa. Ante esto el gobierno optó por impartir clases mediante la televisión que la mayoría de los mexicanos tiene pero esto abre una brecha educativa entre clases. Los que tienen internet no van a resentir tanto la pandemia como quiénes se educan por medio de la tv. \r\n",
        "\r\n",
        "Esperamos que con la aplicación de vacunas las cosas puedan ir mejorando en nuestro país."
      ]
    }
  ]
}